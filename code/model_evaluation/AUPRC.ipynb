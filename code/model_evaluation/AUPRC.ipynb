{
 "cells": [
  {
   "cell_type": "code",
   "execution_count": 1,
   "id": "4cbefaf6",
   "metadata": {},
   "outputs": [],
   "source": [
    "import os\n",
    "import argparse\n",
    "import numpy as np\n",
    "import pandas as pd\n",
    "import networkx as nx\n",
    "from tqdm import tqdm\n",
    "import multiprocessing as mp\n",
    "from pathlib import Path\n",
    "import concurrent.futures\n",
    "from collections import defaultdict\n",
    "from multiprocessing import Pool, cpu_count\n",
    "from networkx.convert_matrix import from_pandas_adjacency\n",
    "import seaborn as sns\n",
    "import matplotlib.pyplot as plt\n",
    "sns.set(rc={\"lines.linewidth\": 2}, palette  = \"deep\", style = \"ticks\")\n",
    "from sklearn.metrics import precision_recall_curve, roc_curve, auc\n",
    "from itertools import product, permutations, combinations, combinations_with_replacement"
   ]
  },
  {
   "cell_type": "markdown",
   "id": "353d2110",
   "metadata": {},
   "source": [
    "## Parameter interpretion\n",
    "### tureEdgesDF\n",
    "DataFrame of true network: columns('Gene1','Gene2'),386293 rows $\\times$ 2 columns\n",
    "### predEdgesDF\n",
    "DataFrame of predicted network: columns('Gene1','Gene2','Edgeweight'),370254 rows $\\times$ 3 columns\n",
    "### possibleEdges\n",
    "Set of all possible pairs: set(product(set(trueEdgesDF.Gene1),set(trueEdgesDF.Gene2)))\n",
    "### TrueEdgeDict\n",
    "Dictionary of true network: key:Gene1|Gene2 Value:0 or 1(represents whether key exits in tureEdgesDF)\n",
    "### PredEdgeDict\n",
    "Dictionary of predicted network: key:Gene1|Gene2 Value:max(np.abs(subDF.Edgeweight.values))\n",
    "\n",
    "---\n",
    "\n",
    "### possibleEdges_1\n",
    "DataFrame of all possible pairs：the same as possibleEdges\n",
    "### TrueEdgeDF_1\n",
    "DataFrame of true network: columns('Gene1','Gene2','Value'), Value = 0 or 1(represents whether ('Gene1','Gene2') exits in tureEdgesDF)\n",
    "### PredEdgeDF_2\n",
    "DataFrame of predicted network: columns('Gene1','Gene2','Value') Value = max(np.abs(subDF.Edgeweight.values))"
   ]
  },
  {
   "cell_type": "markdown",
   "id": "31503cb3",
   "metadata": {},
   "source": [
    "Read the gound truth DataFrame"
   ]
  },
  {
   "cell_type": "code",
   "execution_count": 2,
   "id": "6a6c0d27",
   "metadata": {},
   "outputs": [],
   "source": [
    "trueEdgesDF = pd.read_csv('/gpfs/gibbs/pi/zhao/yw599/GRN/BEELINE-Networks/Networks/human/Non-specific-ChIP-seq-network.csv',sep = ',', header = 0, index_col = None)"
   ]
  },
  {
   "cell_type": "code",
   "execution_count": 3,
   "id": "042c36b6",
   "metadata": {},
   "outputs": [
    {
     "data": {
      "text/html": [
       "<div>\n",
       "<style scoped>\n",
       "    .dataframe tbody tr th:only-of-type {\n",
       "        vertical-align: middle;\n",
       "    }\n",
       "\n",
       "    .dataframe tbody tr th {\n",
       "        vertical-align: top;\n",
       "    }\n",
       "\n",
       "    .dataframe thead th {\n",
       "        text-align: right;\n",
       "    }\n",
       "</style>\n",
       "<table border=\"1\" class=\"dataframe\">\n",
       "  <thead>\n",
       "    <tr style=\"text-align: right;\">\n",
       "      <th></th>\n",
       "      <th>Gene1</th>\n",
       "      <th>Gene2</th>\n",
       "    </tr>\n",
       "  </thead>\n",
       "  <tbody>\n",
       "    <tr>\n",
       "      <th>0</th>\n",
       "      <td>AATF</td>\n",
       "      <td>BAX</td>\n",
       "    </tr>\n",
       "    <tr>\n",
       "      <th>1</th>\n",
       "      <td>AATF</td>\n",
       "      <td>CDKN1A</td>\n",
       "    </tr>\n",
       "    <tr>\n",
       "      <th>2</th>\n",
       "      <td>AATF</td>\n",
       "      <td>KLK3</td>\n",
       "    </tr>\n",
       "    <tr>\n",
       "      <th>3</th>\n",
       "      <td>AATF</td>\n",
       "      <td>MYC</td>\n",
       "    </tr>\n",
       "    <tr>\n",
       "      <th>4</th>\n",
       "      <td>AATF</td>\n",
       "      <td>TP53</td>\n",
       "    </tr>\n",
       "    <tr>\n",
       "      <th>...</th>\n",
       "      <td>...</td>\n",
       "      <td>...</td>\n",
       "    </tr>\n",
       "    <tr>\n",
       "      <th>386288</th>\n",
       "      <td>ZNF274</td>\n",
       "      <td>TNFRSF10B</td>\n",
       "    </tr>\n",
       "    <tr>\n",
       "      <th>386289</th>\n",
       "      <td>ZNF274</td>\n",
       "      <td>ZNF577</td>\n",
       "    </tr>\n",
       "    <tr>\n",
       "      <th>386290</th>\n",
       "      <td>ZNF384</td>\n",
       "      <td>PANK2</td>\n",
       "    </tr>\n",
       "    <tr>\n",
       "      <th>386291</th>\n",
       "      <td>ZNF740</td>\n",
       "      <td>MBD6</td>\n",
       "    </tr>\n",
       "    <tr>\n",
       "      <th>386292</th>\n",
       "      <td>ZNF740</td>\n",
       "      <td>SETD1B</td>\n",
       "    </tr>\n",
       "  </tbody>\n",
       "</table>\n",
       "<p>386293 rows × 2 columns</p>\n",
       "</div>"
      ],
      "text/plain": [
       "         Gene1      Gene2\n",
       "0         AATF        BAX\n",
       "1         AATF     CDKN1A\n",
       "2         AATF       KLK3\n",
       "3         AATF        MYC\n",
       "4         AATF       TP53\n",
       "...        ...        ...\n",
       "386288  ZNF274  TNFRSF10B\n",
       "386289  ZNF274     ZNF577\n",
       "386290  ZNF384      PANK2\n",
       "386291  ZNF740       MBD6\n",
       "386292  ZNF740     SETD1B\n",
       "\n",
       "[386293 rows x 2 columns]"
      ]
     },
     "execution_count": 3,
     "metadata": {},
     "output_type": "execute_result"
    }
   ],
   "source": [
    "trueEdgesDF"
   ]
  },
  {
   "cell_type": "markdown",
   "id": "f8bccc88",
   "metadata": {},
   "source": [
    "Initialize data dictionaries"
   ]
  },
  {
   "cell_type": "code",
   "execution_count": 4,
   "id": "127f17fd",
   "metadata": {},
   "outputs": [],
   "source": [
    "precisionDict = {}\n",
    "recallDict = {}\n",
    "FPRDict = {}\n",
    "TPRDict = {}\n",
    "AUPRC = {}\n",
    "AUROC = {}"
   ]
  },
  {
   "cell_type": "markdown",
   "id": "2c68e2fe",
   "metadata": {},
   "source": [
    "Read the predicted GRN network"
   ]
  },
  {
   "cell_type": "code",
   "execution_count": 6,
   "id": "20576a86",
   "metadata": {},
   "outputs": [],
   "source": [
    "predEdgesDF = pd.read_csv('/gpfs/gibbs/pi/zhao/zc354/GRN/output/multiply_filename_unnorm.csv', sep = ',', header =  0, index_col = None)"
   ]
  },
  {
   "cell_type": "code",
   "execution_count": 7,
   "id": "c7988d14",
   "metadata": {},
   "outputs": [
    {
     "data": {
      "text/html": [
       "<div>\n",
       "<style scoped>\n",
       "    .dataframe tbody tr th:only-of-type {\n",
       "        vertical-align: middle;\n",
       "    }\n",
       "\n",
       "    .dataframe tbody tr th {\n",
       "        vertical-align: top;\n",
       "    }\n",
       "\n",
       "    .dataframe thead th {\n",
       "        text-align: right;\n",
       "    }\n",
       "</style>\n",
       "<table border=\"1\" class=\"dataframe\">\n",
       "  <thead>\n",
       "    <tr style=\"text-align: right;\">\n",
       "      <th></th>\n",
       "      <th>Gene1</th>\n",
       "      <th>Gene2</th>\n",
       "      <th>Edgeweight</th>\n",
       "    </tr>\n",
       "  </thead>\n",
       "  <tbody>\n",
       "    <tr>\n",
       "      <th>0</th>\n",
       "      <td>ZNF98</td>\n",
       "      <td>LRAT</td>\n",
       "      <td>1.514776e-01</td>\n",
       "    </tr>\n",
       "    <tr>\n",
       "      <th>1</th>\n",
       "      <td>TCF4</td>\n",
       "      <td>PDZRN3</td>\n",
       "      <td>1.449918e-01</td>\n",
       "    </tr>\n",
       "    <tr>\n",
       "      <th>2</th>\n",
       "      <td>ZNF611</td>\n",
       "      <td>MTRNR2L12</td>\n",
       "      <td>1.302167e-01</td>\n",
       "    </tr>\n",
       "    <tr>\n",
       "      <th>3</th>\n",
       "      <td>KLF2</td>\n",
       "      <td>MTRNR2L12</td>\n",
       "      <td>1.203797e-01</td>\n",
       "    </tr>\n",
       "    <tr>\n",
       "      <th>4</th>\n",
       "      <td>POU2F2</td>\n",
       "      <td>PLD5</td>\n",
       "      <td>1.170610e-01</td>\n",
       "    </tr>\n",
       "    <tr>\n",
       "      <th>...</th>\n",
       "      <td>...</td>\n",
       "      <td>...</td>\n",
       "      <td>...</td>\n",
       "    </tr>\n",
       "    <tr>\n",
       "      <th>370249</th>\n",
       "      <td>EGR3</td>\n",
       "      <td>CPA3</td>\n",
       "      <td>3.588816e-12</td>\n",
       "    </tr>\n",
       "    <tr>\n",
       "      <th>370250</th>\n",
       "      <td>ZNF343</td>\n",
       "      <td>CPA3</td>\n",
       "      <td>3.584364e-12</td>\n",
       "    </tr>\n",
       "    <tr>\n",
       "      <th>370251</th>\n",
       "      <td>ZNF671</td>\n",
       "      <td>CPA3</td>\n",
       "      <td>3.527235e-12</td>\n",
       "    </tr>\n",
       "    <tr>\n",
       "      <th>370252</th>\n",
       "      <td>PRDM5</td>\n",
       "      <td>CPA3</td>\n",
       "      <td>3.404613e-12</td>\n",
       "    </tr>\n",
       "    <tr>\n",
       "      <th>370253</th>\n",
       "      <td>NR1H4</td>\n",
       "      <td>JCHAIN</td>\n",
       "      <td>2.857948e-12</td>\n",
       "    </tr>\n",
       "  </tbody>\n",
       "</table>\n",
       "<p>370254 rows × 3 columns</p>\n",
       "</div>"
      ],
      "text/plain": [
       "         Gene1      Gene2    Edgeweight\n",
       "0        ZNF98       LRAT  1.514776e-01\n",
       "1         TCF4     PDZRN3  1.449918e-01\n",
       "2       ZNF611  MTRNR2L12  1.302167e-01\n",
       "3         KLF2  MTRNR2L12  1.203797e-01\n",
       "4       POU2F2       PLD5  1.170610e-01\n",
       "...        ...        ...           ...\n",
       "370249    EGR3       CPA3  3.588816e-12\n",
       "370250  ZNF343       CPA3  3.584364e-12\n",
       "370251  ZNF671       CPA3  3.527235e-12\n",
       "370252   PRDM5       CPA3  3.404613e-12\n",
       "370253   NR1H4     JCHAIN  2.857948e-12\n",
       "\n",
       "[370254 rows x 3 columns]"
      ]
     },
     "execution_count": 7,
     "metadata": {},
     "output_type": "execute_result"
    }
   ],
   "source": [
    "predEdgesDF"
   ]
  },
  {
   "cell_type": "code",
   "execution_count": 8,
   "id": "c4b7f972",
   "metadata": {},
   "outputs": [],
   "source": [
    "true_TF = set(trueEdgesDF['Gene1'])\n",
    "pred_TF = set(predEdgesDF['Gene1'])\n",
    "true_tg = set(trueEdgesDF['Gene2'])\n",
    "pred_tg = set(predEdgesDF['Gene2'])"
   ]
  },
  {
   "cell_type": "code",
   "execution_count": 9,
   "id": "d600f18e",
   "metadata": {},
   "outputs": [],
   "source": [
    "TFset = true_TF & pred_TF\n",
    "tgset = true_tg & pred_tg"
   ]
  },
  {
   "cell_type": "code",
   "execution_count": 10,
   "id": "144f8f22",
   "metadata": {},
   "outputs": [],
   "source": [
    "trueEdgesDF = trueEdgesDF[(trueEdgesDF['Gene1'].isin(TFset))&(trueEdgesDF['Gene2'].isin(tgset))]\n",
    "predEdgesDF = predEdgesDF[(predEdgesDF['Gene1'].isin(TFset))&(predEdgesDF['Gene2'].isin(tgset))]"
   ]
  },
  {
   "cell_type": "markdown",
   "id": "b85ef5c2",
   "metadata": {},
   "source": [
    "## Function computeScores below<br />\n",
    "Computes precision-recall and ROC curves using scikit-learn for a given set of predictions in the form of a DataFrame."
   ]
  },
  {
   "cell_type": "markdown",
   "id": "c4c0af51",
   "metadata": {},
   "source": [
    "Generate all possible pairs"
   ]
  },
  {
   "cell_type": "code",
   "execution_count": 11,
   "id": "29deda93",
   "metadata": {
    "scrolled": true
   },
   "outputs": [
    {
     "name": "stdout",
     "output_type": "stream",
     "text": [
      "109224\n",
      "222\n",
      "492\n"
     ]
    }
   ],
   "source": [
    "possibleEdges = set(product(set(trueEdgesDF.Gene1),set(trueEdgesDF.Gene2)))\n",
    "#print(possibleEdges)\n",
    "print(len(possibleEdges))\n",
    "print(len(set(trueEdgesDF.Gene1)))\n",
    "print(len(set(trueEdgesDF.Gene2)))"
   ]
  },
  {
   "cell_type": "markdown",
   "id": "751c5576",
   "metadata": {},
   "source": [
    "### In this part, Keran used Dictionary to restore TrueEdge & PredEdge, and walk through each key to determine value:\n",
    " 1 if edge is present in the ground-truth<br />\n",
    " 0 if edge is not present in the ground-truth<br />\n",
    "Creat the dictionary: '|' to sep Gene1 & Gene2, value=0"
   ]
  },
  {
   "cell_type": "code",
   "execution_count": 12,
   "id": "98740a80",
   "metadata": {},
   "outputs": [],
   "source": [
    "TrueEdgeDict = {'|'.join(p):0 for p in possibleEdges}\n",
    "PredEdgeDict = {'|'.join(p):0 for p in possibleEdges}"
   ]
  },
  {
   "cell_type": "code",
   "execution_count": 13,
   "id": "de385008",
   "metadata": {},
   "outputs": [
    {
     "name": "stdout",
     "output_type": "stream",
     "text": [
      "109224\n",
      "TOPORS|TNFRSF1B : 0\n"
     ]
    }
   ],
   "source": [
    "print(len(TrueEdgeDict.keys()))\n",
    "y=list(TrueEdgeDict.keys())\n",
    "print(y[0],':',TrueEdgeDict[y[0]])"
   ]
  },
  {
   "cell_type": "code",
   "execution_count": 12,
   "id": "1c6b7d38",
   "metadata": {},
   "outputs": [],
   "source": [
    "import time"
   ]
  },
  {
   "cell_type": "markdown",
   "id": "b7db9e74",
   "metadata": {},
   "source": [
    "Compute TrueEdgeDict Dictionary<br />\n",
    "1 if edge is present in the ground-truth<br />\n",
    "0 if edge is not present in the ground-truth"
   ]
  },
  {
   "cell_type": "code",
   "execution_count": 14,
   "id": "cf8823eb",
   "metadata": {},
   "outputs": [],
   "source": [
    "#flag=0\n",
    "#start_time=time.time()\n",
    "for key in TrueEdgeDict.keys():\n",
    "\n",
    "    if len(trueEdgesDF.loc[((trueEdgesDF['Gene1'] == key.split('|')[0]) &\n",
    "                    (trueEdgesDF['Gene2'] == key.split('|')[1])) |\n",
    "                        ((trueEdgesDF['Gene2'] == key.split('|')[0]) &\n",
    "                    (trueEdgesDF['Gene1'] == key.split('|')[1]))]) > 0:\n",
    "        TrueEdgeDict[key] = 1  \n",
    "#    flag+=1\n",
    "#    if flag==100:\n",
    "#        break\n",
    "#end_time=time.time()\n",
    "#print(end_time-start_time)"
   ]
  },
  {
   "cell_type": "markdown",
   "id": "1be1a8c7",
   "metadata": {},
   "source": [
    "For every 100 keys run for about 6.5 seconds<br />\n",
    "For 50617700 keys, it will run for 3290150.5s=54835min=913h=38d"
   ]
  },
  {
   "cell_type": "markdown",
   "id": "35772e93",
   "metadata": {},
   "source": [
    "### In this part, try to use DataFrame to restoreTrueEdge & PredEdge, and walk through each row to determine value:\n",
    " 1 if edge is present in the ground-truth<br />\n",
    " 0 if edge is not present in the ground-truth<br />\n",
    "use \"apply\" to speed up calculation"
   ]
  },
  {
   "cell_type": "code",
   "execution_count": 15,
   "id": "b65c102a",
   "metadata": {},
   "outputs": [],
   "source": [
    "L=list(product(set(trueEdgesDF.Gene1),set(trueEdgesDF.Gene2)))\n",
    "L1=[Gene[0] for Gene in L]\n",
    "L2=[Gene[1] for Gene in L]\n",
    "possibleEdges_1=pd.DataFrame({'Gene1':L1,'Gene2':L2})"
   ]
  },
  {
   "cell_type": "code",
   "execution_count": 16,
   "id": "c24e940f",
   "metadata": {},
   "outputs": [
    {
     "data": {
      "text/html": [
       "<div>\n",
       "<style scoped>\n",
       "    .dataframe tbody tr th:only-of-type {\n",
       "        vertical-align: middle;\n",
       "    }\n",
       "\n",
       "    .dataframe tbody tr th {\n",
       "        vertical-align: top;\n",
       "    }\n",
       "\n",
       "    .dataframe thead th {\n",
       "        text-align: right;\n",
       "    }\n",
       "</style>\n",
       "<table border=\"1\" class=\"dataframe\">\n",
       "  <thead>\n",
       "    <tr style=\"text-align: right;\">\n",
       "      <th></th>\n",
       "      <th>Gene1</th>\n",
       "      <th>Gene2</th>\n",
       "    </tr>\n",
       "  </thead>\n",
       "  <tbody>\n",
       "    <tr>\n",
       "      <th>0</th>\n",
       "      <td>HAND1</td>\n",
       "      <td>hsa-miR-4785</td>\n",
       "    </tr>\n",
       "    <tr>\n",
       "      <th>1</th>\n",
       "      <td>HAND1</td>\n",
       "      <td>PDIA2</td>\n",
       "    </tr>\n",
       "    <tr>\n",
       "      <th>2</th>\n",
       "      <td>HAND1</td>\n",
       "      <td>CASP6</td>\n",
       "    </tr>\n",
       "    <tr>\n",
       "      <th>3</th>\n",
       "      <td>HAND1</td>\n",
       "      <td>hsa-miR-542-5p</td>\n",
       "    </tr>\n",
       "    <tr>\n",
       "      <th>4</th>\n",
       "      <td>HAND1</td>\n",
       "      <td>PLS3</td>\n",
       "    </tr>\n",
       "    <tr>\n",
       "      <th>...</th>\n",
       "      <td>...</td>\n",
       "      <td>...</td>\n",
       "    </tr>\n",
       "    <tr>\n",
       "      <th>50617695</th>\n",
       "      <td>UBE2K</td>\n",
       "      <td>TUBGCP5</td>\n",
       "    </tr>\n",
       "    <tr>\n",
       "      <th>50617696</th>\n",
       "      <td>UBE2K</td>\n",
       "      <td>GRM8</td>\n",
       "    </tr>\n",
       "    <tr>\n",
       "      <th>50617697</th>\n",
       "      <td>UBE2K</td>\n",
       "      <td>NPHS1</td>\n",
       "    </tr>\n",
       "    <tr>\n",
       "      <th>50617698</th>\n",
       "      <td>UBE2K</td>\n",
       "      <td>PCDHGB6</td>\n",
       "    </tr>\n",
       "    <tr>\n",
       "      <th>50617699</th>\n",
       "      <td>UBE2K</td>\n",
       "      <td>VPS37C</td>\n",
       "    </tr>\n",
       "  </tbody>\n",
       "</table>\n",
       "<p>50617700 rows × 2 columns</p>\n",
       "</div>"
      ],
      "text/plain": [
       "          Gene1           Gene2\n",
       "0         HAND1    hsa-miR-4785\n",
       "1         HAND1           PDIA2\n",
       "2         HAND1           CASP6\n",
       "3         HAND1  hsa-miR-542-5p\n",
       "4         HAND1            PLS3\n",
       "...         ...             ...\n",
       "50617695  UBE2K         TUBGCP5\n",
       "50617696  UBE2K            GRM8\n",
       "50617697  UBE2K           NPHS1\n",
       "50617698  UBE2K         PCDHGB6\n",
       "50617699  UBE2K          VPS37C\n",
       "\n",
       "[50617700 rows x 2 columns]"
      ]
     },
     "execution_count": 16,
     "metadata": {},
     "output_type": "execute_result"
    }
   ],
   "source": [
    "possibleEdges_1"
   ]
  },
  {
   "cell_type": "code",
   "execution_count": 17,
   "id": "0ec2f900",
   "metadata": {},
   "outputs": [],
   "source": [
    "TrueEdgeDF_1=possibleEdges_1\n",
    "PredEdgeDF_1=possibleEdges_1"
   ]
  },
  {
   "cell_type": "code",
   "execution_count": 18,
   "id": "5cddf68e",
   "metadata": {},
   "outputs": [],
   "source": [
    "def TrueEdgeValue(row):\n",
    "    gene1=row['Gene1']\n",
    "    gene2=row['Gene2']\n",
    "    if len(trueEdgesDF.loc[((trueEdgesDF['Gene1'] == gene1) &\n",
    "                (trueEdgesDF['Gene2'] == gene2)) |\n",
    "                    ((trueEdgesDF['Gene2'] == gene1) &\n",
    "                (trueEdgesDF['Gene1'] == gene2))]) > 0:\n",
    "        return 1\n",
    "    else:\n",
    "        return 0           "
   ]
  },
  {
   "cell_type": "code",
   "execution_count": 28,
   "id": "66accd2c",
   "metadata": {},
   "outputs": [
    {
     "name": "stdout",
     "output_type": "stream",
     "text": [
      "6.319425582885742\n"
     ]
    }
   ],
   "source": [
    "test=possibleEdges_1.iloc[:100]\n",
    "test=test.copy()\n",
    "#start_time=time.time()\n",
    "test['Value'] = test.apply(lambda row:TrueEdgeValue(row),axis=1)\n",
    "#end_time=time.time()\n",
    "#print(end_time-start_time)"
   ]
  },
  {
   "cell_type": "code",
   "execution_count": null,
   "id": "5fc4c4b7",
   "metadata": {},
   "outputs": [],
   "source": [
    "#start_time=time.time()\n",
    "with mp.Pool(mp.cpu_count()) as pool:\n",
    "    test['Value'] = pool.map(TrueEdgeValue, test.iloc[:,:1])\n",
    "#end_time=time.time()\n",
    "#print(end_time-start_time)"
   ]
  },
  {
   "cell_type": "code",
   "execution_count": 33,
   "id": "98eb6b77",
   "metadata": {},
   "outputs": [],
   "source": [
    "from pandarallel import pandarallel"
   ]
  },
  {
   "cell_type": "code",
   "execution_count": 35,
   "id": "e0aab7e9",
   "metadata": {},
   "outputs": [
    {
     "ename": "AttributeError",
     "evalue": "'DataFrame' object has no attribute 'parallel_apply'",
     "output_type": "error",
     "traceback": [
      "\u001b[0;31m---------------------------------------------------------------------------\u001b[0m",
      "\u001b[0;31mAttributeError\u001b[0m                            Traceback (most recent call last)",
      "Input \u001b[0;32mIn [35]\u001b[0m, in \u001b[0;36m<cell line: 2>\u001b[0;34m()\u001b[0m\n\u001b[1;32m      1\u001b[0m \u001b[38;5;66;03m#start_time=time.time()\u001b[39;00m\n\u001b[0;32m----> 2\u001b[0m test[\u001b[38;5;124m'\u001b[39m\u001b[38;5;124mValue\u001b[39m\u001b[38;5;124m'\u001b[39m] \u001b[38;5;241m=\u001b[39m \u001b[43mtest\u001b[49m\u001b[38;5;241;43m.\u001b[39;49m\u001b[43mparallel_apply\u001b[49m(\u001b[38;5;28;01mlambda\u001b[39;00m row:TrueEdgeValue(row),axis\u001b[38;5;241m=\u001b[39m\u001b[38;5;241m1\u001b[39m)\n",
      "File \u001b[0;32m/gpfs/gibbs/pi/zhao/zc354/conda_envs/myPython/lib/python3.10/site-packages/pandas/core/generic.py:5575\u001b[0m, in \u001b[0;36mNDFrame.__getattr__\u001b[0;34m(self, name)\u001b[0m\n\u001b[1;32m   5568\u001b[0m \u001b[38;5;28;01mif\u001b[39;00m (\n\u001b[1;32m   5569\u001b[0m     name \u001b[38;5;129;01mnot\u001b[39;00m \u001b[38;5;129;01min\u001b[39;00m \u001b[38;5;28mself\u001b[39m\u001b[38;5;241m.\u001b[39m_internal_names_set\n\u001b[1;32m   5570\u001b[0m     \u001b[38;5;129;01mand\u001b[39;00m name \u001b[38;5;129;01mnot\u001b[39;00m \u001b[38;5;129;01min\u001b[39;00m \u001b[38;5;28mself\u001b[39m\u001b[38;5;241m.\u001b[39m_metadata\n\u001b[1;32m   5571\u001b[0m     \u001b[38;5;129;01mand\u001b[39;00m name \u001b[38;5;129;01mnot\u001b[39;00m \u001b[38;5;129;01min\u001b[39;00m \u001b[38;5;28mself\u001b[39m\u001b[38;5;241m.\u001b[39m_accessors\n\u001b[1;32m   5572\u001b[0m     \u001b[38;5;129;01mand\u001b[39;00m \u001b[38;5;28mself\u001b[39m\u001b[38;5;241m.\u001b[39m_info_axis\u001b[38;5;241m.\u001b[39m_can_hold_identifiers_and_holds_name(name)\n\u001b[1;32m   5573\u001b[0m ):\n\u001b[1;32m   5574\u001b[0m     \u001b[38;5;28;01mreturn\u001b[39;00m \u001b[38;5;28mself\u001b[39m[name]\n\u001b[0;32m-> 5575\u001b[0m \u001b[38;5;28;01mreturn\u001b[39;00m \u001b[38;5;28;43mobject\u001b[39;49m\u001b[38;5;241;43m.\u001b[39;49m\u001b[38;5;21;43m__getattribute__\u001b[39;49m\u001b[43m(\u001b[49m\u001b[38;5;28;43mself\u001b[39;49m\u001b[43m,\u001b[49m\u001b[43m \u001b[49m\u001b[43mname\u001b[49m\u001b[43m)\u001b[49m\n",
      "\u001b[0;31mAttributeError\u001b[0m: 'DataFrame' object has no attribute 'parallel_apply'"
     ]
    }
   ],
   "source": [
    "#start_time=time.time()\n",
    "test['Value'] = test.parallel_apply(lambda row:TrueEdgeValue(row),axis=1)\n",
    "#end_time=time.time()\n",
    "#print(end_time-start_time)"
   ]
  },
  {
   "cell_type": "code",
   "execution_count": 21,
   "id": "497d465e",
   "metadata": {},
   "outputs": [
    {
     "data": {
      "text/html": [
       "<div>\n",
       "<style scoped>\n",
       "    .dataframe tbody tr th:only-of-type {\n",
       "        vertical-align: middle;\n",
       "    }\n",
       "\n",
       "    .dataframe tbody tr th {\n",
       "        vertical-align: top;\n",
       "    }\n",
       "\n",
       "    .dataframe thead th {\n",
       "        text-align: right;\n",
       "    }\n",
       "</style>\n",
       "<table border=\"1\" class=\"dataframe\">\n",
       "  <thead>\n",
       "    <tr style=\"text-align: right;\">\n",
       "      <th></th>\n",
       "      <th>Gene1</th>\n",
       "      <th>Gene2</th>\n",
       "      <th>Value</th>\n",
       "    </tr>\n",
       "  </thead>\n",
       "  <tbody>\n",
       "    <tr>\n",
       "      <th>0</th>\n",
       "      <td>HAND1</td>\n",
       "      <td>hsa-miR-4785</td>\n",
       "      <td>0</td>\n",
       "    </tr>\n",
       "    <tr>\n",
       "      <th>1</th>\n",
       "      <td>HAND1</td>\n",
       "      <td>PDIA2</td>\n",
       "      <td>0</td>\n",
       "    </tr>\n",
       "    <tr>\n",
       "      <th>2</th>\n",
       "      <td>HAND1</td>\n",
       "      <td>CASP6</td>\n",
       "      <td>0</td>\n",
       "    </tr>\n",
       "    <tr>\n",
       "      <th>3</th>\n",
       "      <td>HAND1</td>\n",
       "      <td>hsa-miR-542-5p</td>\n",
       "      <td>0</td>\n",
       "    </tr>\n",
       "    <tr>\n",
       "      <th>4</th>\n",
       "      <td>HAND1</td>\n",
       "      <td>PLS3</td>\n",
       "      <td>0</td>\n",
       "    </tr>\n",
       "    <tr>\n",
       "      <th>...</th>\n",
       "      <td>...</td>\n",
       "      <td>...</td>\n",
       "      <td>...</td>\n",
       "    </tr>\n",
       "    <tr>\n",
       "      <th>995</th>\n",
       "      <td>HAND1</td>\n",
       "      <td>MIR5681B</td>\n",
       "      <td>0</td>\n",
       "    </tr>\n",
       "    <tr>\n",
       "      <th>996</th>\n",
       "      <td>HAND1</td>\n",
       "      <td>MIR1243</td>\n",
       "      <td>0</td>\n",
       "    </tr>\n",
       "    <tr>\n",
       "      <th>997</th>\n",
       "      <td>HAND1</td>\n",
       "      <td>KLF5</td>\n",
       "      <td>0</td>\n",
       "    </tr>\n",
       "    <tr>\n",
       "      <th>998</th>\n",
       "      <td>HAND1</td>\n",
       "      <td>BCORL1</td>\n",
       "      <td>0</td>\n",
       "    </tr>\n",
       "    <tr>\n",
       "      <th>999</th>\n",
       "      <td>HAND1</td>\n",
       "      <td>LOC728723</td>\n",
       "      <td>0</td>\n",
       "    </tr>\n",
       "  </tbody>\n",
       "</table>\n",
       "<p>1000 rows × 3 columns</p>\n",
       "</div>"
      ],
      "text/plain": [
       "     Gene1           Gene2  Value\n",
       "0    HAND1    hsa-miR-4785      0\n",
       "1    HAND1           PDIA2      0\n",
       "2    HAND1           CASP6      0\n",
       "3    HAND1  hsa-miR-542-5p      0\n",
       "4    HAND1            PLS3      0\n",
       "..     ...             ...    ...\n",
       "995  HAND1        MIR5681B      0\n",
       "996  HAND1         MIR1243      0\n",
       "997  HAND1            KLF5      0\n",
       "998  HAND1          BCORL1      0\n",
       "999  HAND1       LOC728723      0\n",
       "\n",
       "[1000 rows x 3 columns]"
      ]
     },
     "execution_count": 21,
     "metadata": {},
     "output_type": "execute_result"
    }
   ],
   "source": [
    "test"
   ]
  },
  {
   "cell_type": "code",
   "execution_count": 22,
   "id": "bc582707",
   "metadata": {
    "scrolled": true
   },
   "outputs": [
    {
     "data": {
      "text/plain": [
       "0"
      ]
     },
     "execution_count": 22,
     "metadata": {},
     "output_type": "execute_result"
    }
   ],
   "source": [
    "(test['Value']==1).sum()"
   ]
  },
  {
   "cell_type": "code",
   "execution_count": null,
   "id": "daf6a5ae",
   "metadata": {},
   "outputs": [],
   "source": [
    "TrueEdgeDF_1=TrueEdgeDF_1.copy()\n",
    "TrueEdgeDF_1['Value'] = TrueEdgeDF_1.apply(lambda row:TrueEdgeValue(row),axis=1)"
   ]
  },
  {
   "cell_type": "markdown",
   "id": "e780b426",
   "metadata": {},
   "source": [
    "### In this part, Keran used Dictionary to restore PredEdge, and walk through each key to determine value:\n",
    " 1 if edge is present in the ground-truth<br />\n",
    " 0 if edge is not present in the ground-truth<br />"
   ]
  },
  {
   "cell_type": "code",
   "execution_count": 38,
   "id": "50e91140",
   "metadata": {},
   "outputs": [
    {
     "name": "stdout",
     "output_type": "stream",
     "text": [
      "6.386097431182861\n"
     ]
    }
   ],
   "source": [
    "#flag=0\n",
    "#start_time=time.time()\n",
    "for key in PredEdgeDict.keys():\n",
    "    subDF = predEdgesDF.loc[((predEdgesDF['Gene1'] == key.split('|')[0]) &\n",
    "                         (predEdgesDF['Gene2'] == key.split('|')[1])) |\n",
    "                        ((predEdgesDF['Gene2'] == key.split('|')[0]) &\n",
    "                        (predEdgesDF['Gene1'] == key.split('|')[1]))]\n",
    "    if len(subDF)>0:\n",
    "        PredEdgeDict[key] = max(np.abs(subDF.Edgeweight.values))\n",
    "    #flag+=1\n",
    "    #if flag==100:\n",
    "        #break\n",
    "#end_time=time.time()\n",
    "#print(end_time-start_time)"
   ]
  },
  {
   "cell_type": "code",
   "execution_count": 25,
   "id": "5377e898",
   "metadata": {},
   "outputs": [],
   "source": [
    "def PredEdgesValue(row):\n",
    "    gene1=row['Gene1']\n",
    "    gene2=row['Gene2']\n",
    "    subDF = predEdgesDF.loc[((predEdgesDF['Gene1'] == gene1) &\n",
    "                         (predEdgesDF['Gene2'] == gene2)) |\n",
    "                        ((predEdgesDF['Gene2'] == gene1) &\n",
    "                        (predEdgesDF['Gene1'] == gene2))]\n",
    "    if len(subDF)>0: \n",
    "        return max(np.abs(subDF.Edgeweight.values))\n",
    "    else:\n",
    "        return 0"
   ]
  },
  {
   "cell_type": "code",
   "execution_count": 26,
   "id": "893424bc",
   "metadata": {},
   "outputs": [
    {
     "ename": "KeyboardInterrupt",
     "evalue": "",
     "output_type": "error",
     "traceback": [
      "\u001b[0;31m---------------------------------------------------------------------------\u001b[0m",
      "\u001b[0;31mKeyboardInterrupt\u001b[0m                         Traceback (most recent call last)",
      "Input \u001b[0;32mIn [26]\u001b[0m, in \u001b[0;36m<cell line: 4>\u001b[0;34m()\u001b[0m\n\u001b[1;32m      2\u001b[0m test_2\u001b[38;5;241m=\u001b[39mtest_2\u001b[38;5;241m.\u001b[39mcopy()\n\u001b[1;32m      3\u001b[0m start_time\u001b[38;5;241m=\u001b[39mtime\u001b[38;5;241m.\u001b[39mtime()\n\u001b[0;32m----> 4\u001b[0m test_2[\u001b[38;5;124m'\u001b[39m\u001b[38;5;124mValue\u001b[39m\u001b[38;5;124m'\u001b[39m] \u001b[38;5;241m=\u001b[39m \u001b[43mtest_2\u001b[49m\u001b[38;5;241;43m.\u001b[39;49m\u001b[43mapply\u001b[49m\u001b[43m(\u001b[49m\u001b[38;5;28;43;01mlambda\u001b[39;49;00m\u001b[43m \u001b[49m\u001b[43mrow\u001b[49m\u001b[43m:\u001b[49m\u001b[43mPredEdgesValue\u001b[49m\u001b[43m(\u001b[49m\u001b[43mrow\u001b[49m\u001b[43m)\u001b[49m\u001b[43m,\u001b[49m\u001b[43maxis\u001b[49m\u001b[38;5;241;43m=\u001b[39;49m\u001b[38;5;241;43m1\u001b[39;49m\u001b[43m)\u001b[49m\n\u001b[1;32m      5\u001b[0m end_time\u001b[38;5;241m=\u001b[39mtime\u001b[38;5;241m.\u001b[39mtime()\n\u001b[1;32m      6\u001b[0m \u001b[38;5;28mprint\u001b[39m(end_time\u001b[38;5;241m-\u001b[39mstart_time)\n",
      "File \u001b[0;32m/gpfs/gibbs/pi/zhao/zc354/conda_envs/myPython/lib/python3.10/site-packages/pandas/core/frame.py:8845\u001b[0m, in \u001b[0;36mDataFrame.apply\u001b[0;34m(self, func, axis, raw, result_type, args, **kwargs)\u001b[0m\n\u001b[1;32m   8834\u001b[0m \u001b[38;5;28;01mfrom\u001b[39;00m \u001b[38;5;21;01mpandas\u001b[39;00m\u001b[38;5;21;01m.\u001b[39;00m\u001b[38;5;21;01mcore\u001b[39;00m\u001b[38;5;21;01m.\u001b[39;00m\u001b[38;5;21;01mapply\u001b[39;00m \u001b[38;5;28;01mimport\u001b[39;00m frame_apply\n\u001b[1;32m   8836\u001b[0m op \u001b[38;5;241m=\u001b[39m frame_apply(\n\u001b[1;32m   8837\u001b[0m     \u001b[38;5;28mself\u001b[39m,\n\u001b[1;32m   8838\u001b[0m     func\u001b[38;5;241m=\u001b[39mfunc,\n\u001b[0;32m   (...)\u001b[0m\n\u001b[1;32m   8843\u001b[0m     kwargs\u001b[38;5;241m=\u001b[39mkwargs,\n\u001b[1;32m   8844\u001b[0m )\n\u001b[0;32m-> 8845\u001b[0m \u001b[38;5;28;01mreturn\u001b[39;00m \u001b[43mop\u001b[49m\u001b[38;5;241;43m.\u001b[39;49m\u001b[43mapply\u001b[49m\u001b[43m(\u001b[49m\u001b[43m)\u001b[49m\u001b[38;5;241m.\u001b[39m__finalize__(\u001b[38;5;28mself\u001b[39m, method\u001b[38;5;241m=\u001b[39m\u001b[38;5;124m\"\u001b[39m\u001b[38;5;124mapply\u001b[39m\u001b[38;5;124m\"\u001b[39m)\n",
      "File \u001b[0;32m/gpfs/gibbs/pi/zhao/zc354/conda_envs/myPython/lib/python3.10/site-packages/pandas/core/apply.py:733\u001b[0m, in \u001b[0;36mFrameApply.apply\u001b[0;34m(self)\u001b[0m\n\u001b[1;32m    730\u001b[0m \u001b[38;5;28;01melif\u001b[39;00m \u001b[38;5;28mself\u001b[39m\u001b[38;5;241m.\u001b[39mraw:\n\u001b[1;32m    731\u001b[0m     \u001b[38;5;28;01mreturn\u001b[39;00m \u001b[38;5;28mself\u001b[39m\u001b[38;5;241m.\u001b[39mapply_raw()\n\u001b[0;32m--> 733\u001b[0m \u001b[38;5;28;01mreturn\u001b[39;00m \u001b[38;5;28;43mself\u001b[39;49m\u001b[38;5;241;43m.\u001b[39;49m\u001b[43mapply_standard\u001b[49m\u001b[43m(\u001b[49m\u001b[43m)\u001b[49m\n",
      "File \u001b[0;32m/gpfs/gibbs/pi/zhao/zc354/conda_envs/myPython/lib/python3.10/site-packages/pandas/core/apply.py:857\u001b[0m, in \u001b[0;36mFrameApply.apply_standard\u001b[0;34m(self)\u001b[0m\n\u001b[1;32m    856\u001b[0m \u001b[38;5;28;01mdef\u001b[39;00m \u001b[38;5;21mapply_standard\u001b[39m(\u001b[38;5;28mself\u001b[39m):\n\u001b[0;32m--> 857\u001b[0m     results, res_index \u001b[38;5;241m=\u001b[39m \u001b[38;5;28;43mself\u001b[39;49m\u001b[38;5;241;43m.\u001b[39;49m\u001b[43mapply_series_generator\u001b[49m\u001b[43m(\u001b[49m\u001b[43m)\u001b[49m\n\u001b[1;32m    859\u001b[0m     \u001b[38;5;66;03m# wrap results\u001b[39;00m\n\u001b[1;32m    860\u001b[0m     \u001b[38;5;28;01mreturn\u001b[39;00m \u001b[38;5;28mself\u001b[39m\u001b[38;5;241m.\u001b[39mwrap_results(results, res_index)\n",
      "File \u001b[0;32m/gpfs/gibbs/pi/zhao/zc354/conda_envs/myPython/lib/python3.10/site-packages/pandas/core/apply.py:873\u001b[0m, in \u001b[0;36mFrameApply.apply_series_generator\u001b[0;34m(self)\u001b[0m\n\u001b[1;32m    870\u001b[0m \u001b[38;5;28;01mwith\u001b[39;00m option_context(\u001b[38;5;124m\"\u001b[39m\u001b[38;5;124mmode.chained_assignment\u001b[39m\u001b[38;5;124m\"\u001b[39m, \u001b[38;5;28;01mNone\u001b[39;00m):\n\u001b[1;32m    871\u001b[0m     \u001b[38;5;28;01mfor\u001b[39;00m i, v \u001b[38;5;129;01min\u001b[39;00m \u001b[38;5;28menumerate\u001b[39m(series_gen):\n\u001b[1;32m    872\u001b[0m         \u001b[38;5;66;03m# ignore SettingWithCopy here in case the user mutates\u001b[39;00m\n\u001b[0;32m--> 873\u001b[0m         results[i] \u001b[38;5;241m=\u001b[39m \u001b[38;5;28;43mself\u001b[39;49m\u001b[38;5;241;43m.\u001b[39;49m\u001b[43mf\u001b[49m\u001b[43m(\u001b[49m\u001b[43mv\u001b[49m\u001b[43m)\u001b[49m\n\u001b[1;32m    874\u001b[0m         \u001b[38;5;28;01mif\u001b[39;00m \u001b[38;5;28misinstance\u001b[39m(results[i], ABCSeries):\n\u001b[1;32m    875\u001b[0m             \u001b[38;5;66;03m# If we have a view on v, we need to make a copy because\u001b[39;00m\n\u001b[1;32m    876\u001b[0m             \u001b[38;5;66;03m#  series_generator will swap out the underlying data\u001b[39;00m\n\u001b[1;32m    877\u001b[0m             results[i] \u001b[38;5;241m=\u001b[39m results[i]\u001b[38;5;241m.\u001b[39mcopy(deep\u001b[38;5;241m=\u001b[39m\u001b[38;5;28;01mFalse\u001b[39;00m)\n",
      "Input \u001b[0;32mIn [26]\u001b[0m, in \u001b[0;36m<lambda>\u001b[0;34m(row)\u001b[0m\n\u001b[1;32m      2\u001b[0m test_2\u001b[38;5;241m=\u001b[39mtest_2\u001b[38;5;241m.\u001b[39mcopy()\n\u001b[1;32m      3\u001b[0m start_time\u001b[38;5;241m=\u001b[39mtime\u001b[38;5;241m.\u001b[39mtime()\n\u001b[0;32m----> 4\u001b[0m test_2[\u001b[38;5;124m'\u001b[39m\u001b[38;5;124mValue\u001b[39m\u001b[38;5;124m'\u001b[39m] \u001b[38;5;241m=\u001b[39m test_2\u001b[38;5;241m.\u001b[39mapply(\u001b[38;5;28;01mlambda\u001b[39;00m row:\u001b[43mPredEdgesValue\u001b[49m\u001b[43m(\u001b[49m\u001b[43mrow\u001b[49m\u001b[43m)\u001b[49m,axis\u001b[38;5;241m=\u001b[39m\u001b[38;5;241m1\u001b[39m)\n\u001b[1;32m      5\u001b[0m end_time\u001b[38;5;241m=\u001b[39mtime\u001b[38;5;241m.\u001b[39mtime()\n\u001b[1;32m      6\u001b[0m \u001b[38;5;28mprint\u001b[39m(end_time\u001b[38;5;241m-\u001b[39mstart_time)\n",
      "Input \u001b[0;32mIn [25]\u001b[0m, in \u001b[0;36mPredEdgesValue\u001b[0;34m(row)\u001b[0m\n\u001b[1;32m      2\u001b[0m gene1\u001b[38;5;241m=\u001b[39mrow[\u001b[38;5;124m'\u001b[39m\u001b[38;5;124mGene1\u001b[39m\u001b[38;5;124m'\u001b[39m]\n\u001b[1;32m      3\u001b[0m gene2\u001b[38;5;241m=\u001b[39mrow[\u001b[38;5;124m'\u001b[39m\u001b[38;5;124mGene2\u001b[39m\u001b[38;5;124m'\u001b[39m]\n\u001b[1;32m      4\u001b[0m subDF \u001b[38;5;241m=\u001b[39m predEdgesDF\u001b[38;5;241m.\u001b[39mloc[((predEdgesDF[\u001b[38;5;124m'\u001b[39m\u001b[38;5;124mGene1\u001b[39m\u001b[38;5;124m'\u001b[39m] \u001b[38;5;241m==\u001b[39m gene1) \u001b[38;5;241m&\u001b[39m\n\u001b[0;32m----> 5\u001b[0m                      (\u001b[43mpredEdgesDF\u001b[49m\u001b[43m[\u001b[49m\u001b[38;5;124;43m'\u001b[39;49m\u001b[38;5;124;43mGene2\u001b[39;49m\u001b[38;5;124;43m'\u001b[39;49m\u001b[43m]\u001b[49m\u001b[43m \u001b[49m\u001b[38;5;241;43m==\u001b[39;49m\u001b[43m \u001b[49m\u001b[43mgene2\u001b[49m)) \u001b[38;5;241m|\u001b[39m\n\u001b[1;32m      6\u001b[0m                     ((predEdgesDF[\u001b[38;5;124m'\u001b[39m\u001b[38;5;124mGene2\u001b[39m\u001b[38;5;124m'\u001b[39m] \u001b[38;5;241m==\u001b[39m gene1) \u001b[38;5;241m&\u001b[39m\n\u001b[1;32m      7\u001b[0m                     (predEdgesDF[\u001b[38;5;124m'\u001b[39m\u001b[38;5;124mGene1\u001b[39m\u001b[38;5;124m'\u001b[39m] \u001b[38;5;241m==\u001b[39m gene2))]\n\u001b[1;32m      8\u001b[0m \u001b[38;5;28;01mif\u001b[39;00m \u001b[38;5;28mlen\u001b[39m(subDF)\u001b[38;5;241m>\u001b[39m\u001b[38;5;241m0\u001b[39m: \n\u001b[1;32m      9\u001b[0m     \u001b[38;5;28;01mreturn\u001b[39;00m \u001b[38;5;28mmax\u001b[39m(np\u001b[38;5;241m.\u001b[39mabs(subDF\u001b[38;5;241m.\u001b[39mEdgeweight\u001b[38;5;241m.\u001b[39mvalues))\n",
      "File \u001b[0;32m/gpfs/gibbs/pi/zhao/zc354/conda_envs/myPython/lib/python3.10/site-packages/pandas/core/ops/common.py:70\u001b[0m, in \u001b[0;36m_unpack_zerodim_and_defer.<locals>.new_method\u001b[0;34m(self, other)\u001b[0m\n\u001b[1;32m     66\u001b[0m             \u001b[38;5;28;01mreturn\u001b[39;00m \u001b[38;5;28mNotImplemented\u001b[39m\n\u001b[1;32m     68\u001b[0m other \u001b[38;5;241m=\u001b[39m item_from_zerodim(other)\n\u001b[0;32m---> 70\u001b[0m \u001b[38;5;28;01mreturn\u001b[39;00m \u001b[43mmethod\u001b[49m\u001b[43m(\u001b[49m\u001b[38;5;28;43mself\u001b[39;49m\u001b[43m,\u001b[49m\u001b[43m \u001b[49m\u001b[43mother\u001b[49m\u001b[43m)\u001b[49m\n",
      "File \u001b[0;32m/gpfs/gibbs/pi/zhao/zc354/conda_envs/myPython/lib/python3.10/site-packages/pandas/core/arraylike.py:40\u001b[0m, in \u001b[0;36mOpsMixin.__eq__\u001b[0;34m(self, other)\u001b[0m\n\u001b[1;32m     38\u001b[0m \u001b[38;5;129m@unpack_zerodim_and_defer\u001b[39m(\u001b[38;5;124m\"\u001b[39m\u001b[38;5;124m__eq__\u001b[39m\u001b[38;5;124m\"\u001b[39m)\n\u001b[1;32m     39\u001b[0m \u001b[38;5;28;01mdef\u001b[39;00m \u001b[38;5;21m__eq__\u001b[39m(\u001b[38;5;28mself\u001b[39m, other):\n\u001b[0;32m---> 40\u001b[0m     \u001b[38;5;28;01mreturn\u001b[39;00m \u001b[38;5;28;43mself\u001b[39;49m\u001b[38;5;241;43m.\u001b[39;49m\u001b[43m_cmp_method\u001b[49m\u001b[43m(\u001b[49m\u001b[43mother\u001b[49m\u001b[43m,\u001b[49m\u001b[43m \u001b[49m\u001b[43moperator\u001b[49m\u001b[38;5;241;43m.\u001b[39;49m\u001b[43meq\u001b[49m\u001b[43m)\u001b[49m\n",
      "File \u001b[0;32m/gpfs/gibbs/pi/zhao/zc354/conda_envs/myPython/lib/python3.10/site-packages/pandas/core/series.py:5623\u001b[0m, in \u001b[0;36mSeries._cmp_method\u001b[0;34m(self, other, op)\u001b[0m\n\u001b[1;32m   5620\u001b[0m rvalues \u001b[38;5;241m=\u001b[39m extract_array(other, extract_numpy\u001b[38;5;241m=\u001b[39m\u001b[38;5;28;01mTrue\u001b[39;00m, extract_range\u001b[38;5;241m=\u001b[39m\u001b[38;5;28;01mTrue\u001b[39;00m)\n\u001b[1;32m   5622\u001b[0m \u001b[38;5;28;01mwith\u001b[39;00m np\u001b[38;5;241m.\u001b[39merrstate(\u001b[38;5;28mall\u001b[39m\u001b[38;5;241m=\u001b[39m\u001b[38;5;124m\"\u001b[39m\u001b[38;5;124mignore\u001b[39m\u001b[38;5;124m\"\u001b[39m):\n\u001b[0;32m-> 5623\u001b[0m     res_values \u001b[38;5;241m=\u001b[39m \u001b[43mops\u001b[49m\u001b[38;5;241;43m.\u001b[39;49m\u001b[43mcomparison_op\u001b[49m\u001b[43m(\u001b[49m\u001b[43mlvalues\u001b[49m\u001b[43m,\u001b[49m\u001b[43m \u001b[49m\u001b[43mrvalues\u001b[49m\u001b[43m,\u001b[49m\u001b[43m \u001b[49m\u001b[43mop\u001b[49m\u001b[43m)\u001b[49m\n\u001b[1;32m   5625\u001b[0m \u001b[38;5;28;01mreturn\u001b[39;00m \u001b[38;5;28mself\u001b[39m\u001b[38;5;241m.\u001b[39m_construct_result(res_values, name\u001b[38;5;241m=\u001b[39mres_name)\n",
      "File \u001b[0;32m/gpfs/gibbs/pi/zhao/zc354/conda_envs/myPython/lib/python3.10/site-packages/pandas/core/ops/array_ops.py:283\u001b[0m, in \u001b[0;36mcomparison_op\u001b[0;34m(left, right, op)\u001b[0m\n\u001b[1;32m    280\u001b[0m     \u001b[38;5;28;01mreturn\u001b[39;00m invalid_comparison(lvalues, rvalues, op)\n\u001b[1;32m    282\u001b[0m \u001b[38;5;28;01melif\u001b[39;00m is_object_dtype(lvalues\u001b[38;5;241m.\u001b[39mdtype) \u001b[38;5;129;01mor\u001b[39;00m \u001b[38;5;28misinstance\u001b[39m(rvalues, \u001b[38;5;28mstr\u001b[39m):\n\u001b[0;32m--> 283\u001b[0m     res_values \u001b[38;5;241m=\u001b[39m \u001b[43mcomp_method_OBJECT_ARRAY\u001b[49m\u001b[43m(\u001b[49m\u001b[43mop\u001b[49m\u001b[43m,\u001b[49m\u001b[43m \u001b[49m\u001b[43mlvalues\u001b[49m\u001b[43m,\u001b[49m\u001b[43m \u001b[49m\u001b[43mrvalues\u001b[49m\u001b[43m)\u001b[49m\n\u001b[1;32m    285\u001b[0m \u001b[38;5;28;01melse\u001b[39;00m:\n\u001b[1;32m    286\u001b[0m     res_values \u001b[38;5;241m=\u001b[39m _na_arithmetic_op(lvalues, rvalues, op, is_cmp\u001b[38;5;241m=\u001b[39m\u001b[38;5;28;01mTrue\u001b[39;00m)\n",
      "File \u001b[0;32m/gpfs/gibbs/pi/zhao/zc354/conda_envs/myPython/lib/python3.10/site-packages/pandas/core/ops/array_ops.py:73\u001b[0m, in \u001b[0;36mcomp_method_OBJECT_ARRAY\u001b[0;34m(op, x, y)\u001b[0m\n\u001b[1;32m     71\u001b[0m     result \u001b[38;5;241m=\u001b[39m libops\u001b[38;5;241m.\u001b[39mvec_compare(x\u001b[38;5;241m.\u001b[39mravel(), y\u001b[38;5;241m.\u001b[39mravel(), op)\n\u001b[1;32m     72\u001b[0m \u001b[38;5;28;01melse\u001b[39;00m:\n\u001b[0;32m---> 73\u001b[0m     result \u001b[38;5;241m=\u001b[39m \u001b[43mlibops\u001b[49m\u001b[38;5;241;43m.\u001b[39;49m\u001b[43mscalar_compare\u001b[49m\u001b[43m(\u001b[49m\u001b[43mx\u001b[49m\u001b[38;5;241;43m.\u001b[39;49m\u001b[43mravel\u001b[49m\u001b[43m(\u001b[49m\u001b[43m)\u001b[49m\u001b[43m,\u001b[49m\u001b[43m \u001b[49m\u001b[43my\u001b[49m\u001b[43m,\u001b[49m\u001b[43m \u001b[49m\u001b[43mop\u001b[49m\u001b[43m)\u001b[49m\n\u001b[1;32m     74\u001b[0m \u001b[38;5;28;01mreturn\u001b[39;00m result\u001b[38;5;241m.\u001b[39mreshape(x\u001b[38;5;241m.\u001b[39mshape)\n",
      "\u001b[0;31mKeyboardInterrupt\u001b[0m: "
     ]
    }
   ],
   "source": [
    "test_2=possibleEdges_1.iloc[:100]\n",
    "test_2=test_2.copy()\n",
    "start_time=time.time()\n",
    "test_2['Value'] = test_2.apply(lambda row:PredEdgesValue(row),axis=1)\n",
    "end_time=time.time()\n",
    "print(end_time-start_time)"
   ]
  },
  {
   "cell_type": "code",
   "execution_count": 51,
   "id": "09254d59",
   "metadata": {
    "scrolled": true
   },
   "outputs": [
    {
     "data": {
      "text/html": [
       "<div>\n",
       "<style scoped>\n",
       "    .dataframe tbody tr th:only-of-type {\n",
       "        vertical-align: middle;\n",
       "    }\n",
       "\n",
       "    .dataframe tbody tr th {\n",
       "        vertical-align: top;\n",
       "    }\n",
       "\n",
       "    .dataframe thead th {\n",
       "        text-align: right;\n",
       "    }\n",
       "</style>\n",
       "<table border=\"1\" class=\"dataframe\">\n",
       "  <thead>\n",
       "    <tr style=\"text-align: right;\">\n",
       "      <th></th>\n",
       "      <th>Gene1</th>\n",
       "      <th>Gene2</th>\n",
       "      <th>Value</th>\n",
       "    </tr>\n",
       "  </thead>\n",
       "  <tbody>\n",
       "    <tr>\n",
       "      <th>0</th>\n",
       "      <td>TRIM33</td>\n",
       "      <td>RG9MTD2</td>\n",
       "      <td>0</td>\n",
       "    </tr>\n",
       "    <tr>\n",
       "      <th>1</th>\n",
       "      <td>TRIM33</td>\n",
       "      <td>LOC652276</td>\n",
       "      <td>0</td>\n",
       "    </tr>\n",
       "    <tr>\n",
       "      <th>2</th>\n",
       "      <td>TRIM33</td>\n",
       "      <td>LOC100505659</td>\n",
       "      <td>0</td>\n",
       "    </tr>\n",
       "    <tr>\n",
       "      <th>3</th>\n",
       "      <td>TRIM33</td>\n",
       "      <td>SSX2B</td>\n",
       "      <td>0</td>\n",
       "    </tr>\n",
       "    <tr>\n",
       "      <th>4</th>\n",
       "      <td>TRIM33</td>\n",
       "      <td>RAB6A</td>\n",
       "      <td>0</td>\n",
       "    </tr>\n",
       "    <tr>\n",
       "      <th>...</th>\n",
       "      <td>...</td>\n",
       "      <td>...</td>\n",
       "      <td>...</td>\n",
       "    </tr>\n",
       "    <tr>\n",
       "      <th>4995</th>\n",
       "      <td>TRIM33</td>\n",
       "      <td>PPIA</td>\n",
       "      <td>0</td>\n",
       "    </tr>\n",
       "    <tr>\n",
       "      <th>4996</th>\n",
       "      <td>TRIM33</td>\n",
       "      <td>RND2</td>\n",
       "      <td>0</td>\n",
       "    </tr>\n",
       "    <tr>\n",
       "      <th>4997</th>\n",
       "      <td>TRIM33</td>\n",
       "      <td>C12orf65</td>\n",
       "      <td>0</td>\n",
       "    </tr>\n",
       "    <tr>\n",
       "      <th>4998</th>\n",
       "      <td>TRIM33</td>\n",
       "      <td>MN1</td>\n",
       "      <td>0</td>\n",
       "    </tr>\n",
       "    <tr>\n",
       "      <th>4999</th>\n",
       "      <td>TRIM33</td>\n",
       "      <td>KAT8</td>\n",
       "      <td>0</td>\n",
       "    </tr>\n",
       "  </tbody>\n",
       "</table>\n",
       "<p>5000 rows × 3 columns</p>\n",
       "</div>"
      ],
      "text/plain": [
       "       Gene1         Gene2  Value\n",
       "0     TRIM33       RG9MTD2      0\n",
       "1     TRIM33     LOC652276      0\n",
       "2     TRIM33  LOC100505659      0\n",
       "3     TRIM33         SSX2B      0\n",
       "4     TRIM33         RAB6A      0\n",
       "...      ...           ...    ...\n",
       "4995  TRIM33          PPIA      0\n",
       "4996  TRIM33          RND2      0\n",
       "4997  TRIM33      C12orf65      0\n",
       "4998  TRIM33           MN1      0\n",
       "4999  TRIM33          KAT8      0\n",
       "\n",
       "[5000 rows x 3 columns]"
      ]
     },
     "execution_count": 51,
     "metadata": {},
     "output_type": "execute_result"
    }
   ],
   "source": [
    "test_2"
   ]
  },
  {
   "cell_type": "code",
   "execution_count": 52,
   "id": "60e12048",
   "metadata": {},
   "outputs": [
    {
     "data": {
      "text/plain": [
       "0"
      ]
     },
     "execution_count": 52,
     "metadata": {},
     "output_type": "execute_result"
    }
   ],
   "source": [
    "(test_2['Value']!=0).sum()"
   ]
  },
  {
   "cell_type": "code",
   "execution_count": null,
   "id": "b6bc2a98",
   "metadata": {},
   "outputs": [],
   "source": [
    "# Combine into one dataframe\n",
    "# to pass it to sklearn\n",
    "outDF = pd.DataFrame([TrueEdgeDict,PredEdgeDict]).T\n",
    "outDF.columns = ['TrueEdges','PredEdges']\n",
    "\n",
    "prec, recall, thresholds = precision_recall_curve(y_true=outDF['TrueEdges'],\n",
    "                                                      probas_pred=outDF['PredEdges'], pos_label=1)\n",
    "precisionDict=prec\n",
    "recallDict=recall\n",
    "AUPRC=auc(recall, prec)"
   ]
  },
  {
   "cell_type": "code",
   "execution_count": null,
   "id": "c914b375",
   "metadata": {},
   "outputs": [],
   "source": [
    "PRName = '/uPRplot'\n",
    "ROCName = '/uROCplot'\n",
    "outDir='/gpfs/gibbs/pi/zhao/zc354/GRN/output/TF_filename_unnomalization_AUPRC'\n",
    "##Make PR curves\n",
    "legendList = []\n",
    "for key in recallDict.keys():\n",
    "    sns.lineplot(recallDict[key],precisionDict[key], ci=None)\n",
    "    legendList.append(key + ' (AUPRC = ' + str(\"%.2f\" % (AUPRC[key]))+')')\n",
    "    plt.xlim(0,1)    \n",
    "    plt.ylim(0,1)\n",
    "    plt.xlabel('Recall')\n",
    "    plt.ylabel('Precision')\n",
    "    plt.legend(legendList) \n",
    "    plt.savefig(outDir+PRName+'.pdf')\n",
    "    plt.savefig(outDir+PRName+'.png')\n",
    "    plt.clf()"
   ]
  }
 ],
 "metadata": {
  "kernelspec": {
   "display_name": "Python 3 (ipykernel)",
   "language": "python",
   "name": "python3"
  },
  "language_info": {
   "codemirror_mode": {
    "name": "ipython",
    "version": 3
   },
   "file_extension": ".py",
   "mimetype": "text/x-python",
   "name": "python",
   "nbconvert_exporter": "python",
   "pygments_lexer": "ipython3",
   "version": "3.10.5"
  }
 },
 "nbformat": 4,
 "nbformat_minor": 5
}
