{
 "cells": [
  {
   "cell_type": "code",
   "execution_count": 237,
   "id": "5d6e5444",
   "metadata": {},
   "outputs": [],
   "source": [
    "import numpy as np\n",
    "import pandas as pd\n",
    "import seaborn as sns\n",
    "sns.set(rc={\"lines.linewidth\": 2}, palette  = \"deep\", style = \"ticks\")\n",
    "from itertools import product, permutations, combinations, combinations_with_replacement\n",
    "from sklearn.metrics import precision_recall_curve, roc_curve, auc\n",
    "import matplotlib.pyplot as plt"
   ]
  },
  {
   "cell_type": "code",
   "execution_count": 266,
   "id": "268c6e94",
   "metadata": {},
   "outputs": [],
   "source": [
    "model1 = \"filter\"  #non_filter OR filter OR multiply OR score\n",
    "model2 = \"multiply\"  #non_filter OR filter OR multiply OR score\n",
    "hvg_version = \"sct\"  #sct OR normdata\n",
    "data_version = \"count\"  #norm OR count\n",
    "directory = \"/home/zc354/network_2000/\"\n",
    "\n",
    "pred_path_1=directory+model1+'_'+hvg_version+'_'+data_version+'.csv'\n",
    "pred_path_2=directory+model2+'_'+hvg_version+'_'+data_version+'.csv'\n",
    "true_path='/gpfs/gibbs/pi/zhao/yw599/GRN/BEELINE-Networks/Networks/human/Non-specific-ChIP-seq-network.csv'\n",
    "directed=True\n",
    "#save_path='/gpfs/gibbs/pi/zhao/zc354/GRN/output'\n",
    "#save_name='/AUPRC_TF_Keran_indirected'"
   ]
  },
  {
   "cell_type": "code",
   "execution_count": 267,
   "id": "b62e32b9",
   "metadata": {
    "scrolled": true
   },
   "outputs": [],
   "source": [
    "#Read true netword and predicted network\n",
    "trueEdgesDF = pd.read_csv(true_path,sep = ',', header = 0, index_col = None)\n",
    "predEdgesDF_1 = pd.read_csv(pred_path_1, sep = ',', header =  0, index_col = None)\n",
    "predEdgesDF_2 = pd.read_csv(pred_path_2, sep = ',', header =  0, index_col = None)"
   ]
  },
  {
   "cell_type": "code",
   "execution_count": 268,
   "id": "d84dd421",
   "metadata": {},
   "outputs": [
    {
     "data": {
      "text/plain": [
       "169494"
      ]
     },
     "execution_count": 268,
     "metadata": {},
     "output_type": "execute_result"
    }
   ],
   "source": [
    "len(predEdgesDF_1)"
   ]
  },
  {
   "cell_type": "code",
   "execution_count": 269,
   "id": "ba8e3755",
   "metadata": {},
   "outputs": [
    {
     "data": {
      "text/plain": [
       "169494"
      ]
     },
     "execution_count": 269,
     "metadata": {},
     "output_type": "execute_result"
    }
   ],
   "source": [
    "len(predEdgesDF_2)"
   ]
  },
  {
   "cell_type": "code",
   "execution_count": 270,
   "id": "97cde9ba",
   "metadata": {},
   "outputs": [],
   "source": [
    "#Unification changes lowercase letters to uppercase letters\n",
    "trueEdgesDF['Gene1'] = trueEdgesDF['Gene1'].str.upper()\n",
    "trueEdgesDF['Gene2'] = trueEdgesDF['Gene2'].str.upper()\n",
    "\n",
    "predEdgesDF_1['Gene1'] = predEdgesDF_1['Gene1'].str.upper()\n",
    "predEdgesDF_1['Gene2'] = predEdgesDF_1['Gene2'].str.upper()\n",
    "\n",
    "predEdgesDF_2['Gene1'] = predEdgesDF_2['Gene1'].str.upper()\n",
    "predEdgesDF_2['Gene2'] = predEdgesDF_2['Gene2'].str.upper()"
   ]
  },
  {
   "cell_type": "code",
   "execution_count": 271,
   "id": "ea013939",
   "metadata": {},
   "outputs": [],
   "source": [
    "#Drop index in predEdgesDF that Edgeweight=0\n",
    "predEdgesDF_1.drop(predEdgesDF_1[predEdgesDF_1['Edgeweight'] == 0].index,inplace=True)\n",
    "\n",
    "predEdgesDF_2.drop(predEdgesDF_2[predEdgesDF_2['Edgeweight'] == 0].index,inplace=True)"
   ]
  },
  {
   "cell_type": "code",
   "execution_count": 272,
   "id": "254a1aaf",
   "metadata": {},
   "outputs": [],
   "source": [
    "#Drop selfEdges\n",
    "trueEdgesDF = trueEdgesDF.loc[(trueEdgesDF['Gene1'] != trueEdgesDF['Gene2'])]\n",
    "predEdgesDF_1 = predEdgesDF_1.loc[(predEdgesDF_1['Gene1'] != predEdgesDF_1['Gene2'])]\n",
    "\n",
    "predEdgesDF_2 = predEdgesDF_2.loc[(predEdgesDF_2['Gene1'] != predEdgesDF_2['Gene2'])]"
   ]
  },
  {
   "cell_type": "code",
   "execution_count": 273,
   "id": "6851c9cb",
   "metadata": {},
   "outputs": [],
   "source": [
    "#Drop duplicates in trueEdgesDF and predEdgesDF\n",
    "trueEdgesDF.drop_duplicates(keep = 'first', inplace=True)\n",
    "predEdgesDF_1.drop_duplicates(keep = 'first',subset=['Gene1','Gene2'],inplace=True)\n",
    "predEdgesDF_2.drop_duplicates(keep = 'first',subset=['Gene1','Gene2'],inplace=True)"
   ]
  },
  {
   "cell_type": "code",
   "execution_count": 274,
   "id": "f36e39ae",
   "metadata": {
    "scrolled": true
   },
   "outputs": [
    {
     "name": "stdout",
     "output_type": "stream",
     "text": [
      "2157\n",
      "23377\n",
      "387\n",
      "1762\n",
      "383\n",
      "1762\n"
     ]
    }
   ],
   "source": [
    "print(len(set(trueEdgesDF['Gene1'])))\n",
    "print(len(set(trueEdgesDF['Gene2'])))\n",
    "\n",
    "print(len(set(predEdgesDF_1['Gene1'])))\n",
    "print(len(set(predEdgesDF_1['Gene2'])))\n",
    "\n",
    "print(len(set(predEdgesDF_2['Gene1'])))\n",
    "print(len(set(predEdgesDF_2['Gene2'])))"
   ]
  },
  {
   "cell_type": "code",
   "execution_count": 275,
   "id": "4a59643c",
   "metadata": {},
   "outputs": [],
   "source": [
    "true_TF = set(trueEdgesDF['Gene1'])\n",
    "true_tg = set(trueEdgesDF['Gene2'])\n",
    "\n",
    "pred_TF_1 = set(predEdgesDF_1['Gene1'])\n",
    "pred_tg_1 = set(predEdgesDF_1['Gene2'])\n",
    "\n",
    "pred_TF_2 = set(predEdgesDF_2['Gene1'])\n",
    "pred_tg_2 = set(predEdgesDF_2['Gene2'])"
   ]
  },
  {
   "cell_type": "code",
   "execution_count": 276,
   "id": "4a5dfe9d",
   "metadata": {},
   "outputs": [],
   "source": [
    "TFset_1 = (true_TF & pred_TF_1) \n",
    "tgset_1 = (true_tg & pred_tg_1)\n",
    "\n",
    "TFset_2 = (true_TF & pred_TF_2) \n",
    "tgset_2 = (true_tg & pred_tg_2)"
   ]
  },
  {
   "cell_type": "code",
   "execution_count": 277,
   "id": "1e188a9a",
   "metadata": {
    "scrolled": true
   },
   "outputs": [
    {
     "name": "stdout",
     "output_type": "stream",
     "text": [
      "197\n",
      "194\n",
      "1571\n",
      "1571\n"
     ]
    }
   ],
   "source": [
    "print(len(TFset_1))\n",
    "print(len(TFset_2))\n",
    "print(len(tgset_1))\n",
    "print(len(tgset_2))"
   ]
  },
  {
   "cell_type": "code",
   "execution_count": 278,
   "id": "df27cf5b",
   "metadata": {},
   "outputs": [],
   "source": [
    "TFset = TFset_1 & TFset_2\n",
    "tgset = tgset_1 & tgset_2"
   ]
  },
  {
   "cell_type": "code",
   "execution_count": 279,
   "id": "7ea3e6a2",
   "metadata": {
    "scrolled": true
   },
   "outputs": [
    {
     "name": "stdout",
     "output_type": "stream",
     "text": [
      "194\n",
      "1571\n"
     ]
    }
   ],
   "source": [
    "print(len(TFset))\n",
    "print(len(tgset))"
   ]
  },
  {
   "cell_type": "code",
   "execution_count": 280,
   "id": "4b61dcb2",
   "metadata": {},
   "outputs": [],
   "source": [
    "trueEdgesDF = trueEdgesDF[(trueEdgesDF['Gene1'].isin(TFset_2))&(trueEdgesDF['Gene2'].isin(tgset_2))]\n",
    "predEdgesDF_1 = predEdgesDF_1[(predEdgesDF_1['Gene1'].isin(TFset_2))&(predEdgesDF_1['Gene2'].isin(tgset_2))]\n",
    "predEdgesDF_2 = predEdgesDF_2[(predEdgesDF_2['Gene1'].isin(TFset_2))&(predEdgesDF_2['Gene2'].isin(tgset_2))]"
   ]
  },
  {
   "cell_type": "code",
   "execution_count": 281,
   "id": "7d345b7a",
   "metadata": {},
   "outputs": [
    {
     "data": {
      "text/plain": [
       "58665"
      ]
     },
     "execution_count": 281,
     "metadata": {},
     "output_type": "execute_result"
    }
   ],
   "source": [
    "len(predEdgesDF_1)"
   ]
  },
  {
   "cell_type": "code",
   "execution_count": 282,
   "id": "bbe1ca65",
   "metadata": {},
   "outputs": [
    {
     "data": {
      "text/plain": [
       "58093"
      ]
     },
     "execution_count": 282,
     "metadata": {},
     "output_type": "execute_result"
    }
   ],
   "source": [
    "len(predEdgesDF_2)"
   ]
  },
  {
   "cell_type": "code",
   "execution_count": 283,
   "id": "7c564072",
   "metadata": {},
   "outputs": [],
   "source": [
    "#Generate all possibleEdges using Cartesian product of trueEdgesDF['Gene1'] & trueEdgesDF['Gene2']\n",
    "possibleEdges = set(product(set(trueEdgesDF['Gene1']),set(trueEdgesDF['Gene2'])))\n",
    "possibleEdgesDF = pd.DataFrame(list(possibleEdges))\n",
    "possibleEdgesDF.columns=['Gene1','Gene2']"
   ]
  },
  {
   "cell_type": "code",
   "execution_count": 284,
   "id": "c4be2f33",
   "metadata": {
    "scrolled": true
   },
   "outputs": [],
   "source": [
    "#directed\n",
    "TrueEdgesDF = pd.DataFrame(columns=['Edge'])\n",
    "TrueEdgesDF['Edge'] = trueEdgesDF['Gene1'].map(str) +\"|\"+ trueEdgesDF['Gene2'].map(str)\n",
    "PredEdgesDF_1 = pd.DataFrame(columns=['Edge','Weight'])\n",
    "PredEdgesDF_1['Edge'] = predEdgesDF_1['Gene1'].map(str) +\"|\"+ predEdgesDF_1['Gene2'].map(str)\n",
    "PredEdgesDF_1['Weight'] = predEdgesDF_1['Edgeweight']\n",
    "\n",
    "PredEdgesDF_2 = pd.DataFrame(columns=['Edge','Weight'])\n",
    "PredEdgesDF_2['Edge'] = predEdgesDF_2['Gene1'].map(str) +\"|\"+ predEdgesDF_2['Gene2'].map(str)\n",
    "PredEdgesDF_2['Weight'] = predEdgesDF_2['Edgeweight']"
   ]
  },
  {
   "cell_type": "code",
   "execution_count": 285,
   "id": "927da4b6",
   "metadata": {},
   "outputs": [],
   "source": [
    "PossibleEdgesDF = pd.DataFrame(columns=['Edge','Pred','True'])\n",
    "PossibleEdgesDF['Edge'] = possibleEdgesDF['Gene1'].map(str) +\"|\"+ possibleEdgesDF['Gene2'].map(str)"
   ]
  },
  {
   "cell_type": "code",
   "execution_count": 286,
   "id": "9013d2e4",
   "metadata": {},
   "outputs": [],
   "source": [
    "#Generate the set of true/pred/possible edges\n",
    "TrueEdgesset=set(TrueEdgesDF['Edge'])\n",
    "\n",
    "PredEdgesset_1=set(PredEdgesDF_1['Edge'])\n",
    "PredEdgesset_2=set(PredEdgesDF_2['Edge'])\n",
    "\n",
    "PossibleEdgesset=set(PossibleEdgesDF['Edge'])\n",
    "\n",
    "PredEdgesDF_1.set_index('Edge',inplace=True)\n",
    "PredEdgesDF_2.set_index('Edge',inplace=True)\n",
    "TrueEdgesDF.set_index('Edge',inplace=True)\n",
    "PossibleEdgesDF.set_index('Edge',inplace=True)"
   ]
  },
  {
   "cell_type": "code",
   "execution_count": 49,
   "id": "7f77ab1c",
   "metadata": {},
   "outputs": [],
   "source": [
    "def gen_auprc(TrueEdgesset = TrueEdgesset, PredEdgesset = PredEdgesset_1, PossibleEdgesset = PossibleEdgesset,PredEdgesDF=PredEdgesDF_1,TrueEdgesDF =TrueEdgesDF,PossibleEdgesDF=PossibleEdgesDF ):\n",
    "    inbothset = (TrueEdgesset & PredEdgesset) & PossibleEdgesset\n",
    "    onlyintrue = (TrueEdgesset - PredEdgesset) & PossibleEdgesset\n",
    "    onlyinpred = (PredEdgesset - TrueEdgesset) & PossibleEdgesset\n",
    "    inneitherset = PossibleEdgesset - (TrueEdgesset | PredEdgesset)\n",
    "    \n",
    "    #Assign values to different types of edges\n",
    "    inbothDF = PredEdgesDF.loc[list(inbothset),:]\n",
    "    inbothDF['True'] = 1\n",
    "    inbothDF.columns = ['Pred','True']\n",
    "    \n",
    "    onlyintrueDF = TrueEdgesDF.loc[list(onlyintrue),:]\n",
    "    onlyintrueDF['Pred'] = 0\n",
    "    onlyintrueDF['True'] = 1\n",
    "    \n",
    "    onlyinpredDF = PredEdgesDF.loc[list(onlyinpred),:]\n",
    "    onlyinpredDF['True'] = 0\n",
    "    onlyinpredDF.columns = ['Pred','True']\n",
    "    \n",
    "    inneitherDF = PossibleEdgesDF.loc[list(inneitherset),:]\n",
    "    inneitherDF['Pred'] = 0\n",
    "    inneitherDF['True'] = 0\n",
    "    \n",
    "    print('lenth of inbothDF:'+str(len(inbothDF)))\n",
    "    print('lenth of onlyintrueDF:'+str(len(onlyintrueDF)))\n",
    "    print('lenth of onlyinpredDF:'+str(len(onlyinpredDF)))\n",
    "    print('lenth of trueDF:'+str(len(onlyintrueDF)+len(inbothDF)))\n",
    "    \n",
    "    outDF = pd.concat([inbothDF,onlyintrueDF,onlyinpredDF,winneitherDF],axis=0)\n",
    "    print('length of outDF:'+str(len(outDF)))\n",
    "    \n",
    "    prec, recall, thresholds = precision_recall_curve(y_true=outDF['True'],probas_pred=outDF['Pred'], pos_label=1)\n",
    "    \n",
    "    return auc(recall,prec)"
   ]
  },
  {
   "cell_type": "code",
   "execution_count": 50,
   "id": "a47d5190",
   "metadata": {
    "scrolled": true
   },
   "outputs": [
    {
     "name": "stdout",
     "output_type": "stream",
     "text": [
      "lenth of inbothDF:5287\n",
      "lenth of onlyintrueDF:22\n",
      "lenth of onlyinpredDF:164013\n",
      "lenth of trueDF:5309\n",
      "length of outDF:172032\n"
     ]
    },
    {
     "data": {
      "text/plain": [
       "0.03908607232001104"
      ]
     },
     "execution_count": 50,
     "metadata": {},
     "output_type": "execute_result"
    }
   ],
   "source": [
    "gen_auprc(PredEdgesset = PredEdgesset_1, PredEdgesDF=PredEdgesDF_1)"
   ]
  },
  {
   "cell_type": "code",
   "execution_count": 51,
   "id": "aea35bd4",
   "metadata": {},
   "outputs": [
    {
     "name": "stdout",
     "output_type": "stream",
     "text": [
      "lenth of inbothDF:1427\n",
      "lenth of onlyintrueDF:3882\n",
      "lenth of onlyinpredDF:31020\n",
      "lenth of trueDF:5309\n",
      "length of outDF:172032\n"
     ]
    },
    {
     "data": {
      "text/plain": [
       "0.041577088965947334"
      ]
     },
     "execution_count": 51,
     "metadata": {},
     "output_type": "execute_result"
    }
   ],
   "source": [
    "gen_auprc(PredEdgesset = PredEdgesset_2, PredEdgesDF=PredEdgesDF_2)"
   ]
  },
  {
   "cell_type": "code",
   "execution_count": 89,
   "id": "c5717b5f",
   "metadata": {},
   "outputs": [],
   "source": [
    "#Generate four possible conditions using set operation\n",
    "#inbothset represents edges in both true and pred network\n",
    "#onlyintrue set represents edges in true network but not in pred\n",
    "#onlyinpred set represents edges in pred but not in true network\n",
    "#inneitherset represent edges in neither of true and pred network but in possible network\n",
    "inbothset = (TrueEdgesset & PredEdgesset) & PossibleEdgesset\n",
    "onlyintrue = (TrueEdgesset - PredEdgesset) & PossibleEdgesset\n",
    "onlyinpred = (PredEdgesset - TrueEdgesset) & PossibleEdgesset\n",
    "inneitherset = PossibleEdgesset - (TrueEdgesset | PredEdgesset)"
   ]
  },
  {
   "cell_type": "code",
   "execution_count": 90,
   "id": "02014a7f",
   "metadata": {},
   "outputs": [],
   "source": [
    "#Set Edges as index in three DataFrames to facilitate indexing\n",
    "PredEdgesDF_1.set_index('Edge',inplace=True)\n",
    "TrueEdgesDF_1.set_index('Edge',inplace=True)\n",
    "PossibleEdgesDF_1.set_index('Edge',inplace=True)"
   ]
  },
  {
   "cell_type": "code",
   "execution_count": 91,
   "id": "a86c3ba5",
   "metadata": {},
   "outputs": [],
   "source": [
    "#Assign values to different types of edges\n",
    "inbothDF = PredEdgesDF_1.loc[list(inbothset),:]\n",
    "inbothDF['True'] = 1\n",
    "inbothDF.columns = ['Pred','True']"
   ]
  },
  {
   "cell_type": "code",
   "execution_count": 92,
   "id": "12b2bd9d",
   "metadata": {},
   "outputs": [],
   "source": [
    "onlyintrueDF = TrueEdgesDF_1.loc[list(onlyintrue),:]\n",
    "onlyintrueDF['Pred'] = 0\n",
    "onlyintrueDF['True'] = 1"
   ]
  },
  {
   "cell_type": "code",
   "execution_count": 93,
   "id": "d0c34256",
   "metadata": {},
   "outputs": [],
   "source": [
    "onlyinpredDF = PredEdgesDF_1.loc[list(onlyinpred),:]\n",
    "onlyinpredDF['True'] = 0\n",
    "onlyinpredDF.columns = ['Pred','True']"
   ]
  },
  {
   "cell_type": "code",
   "execution_count": 94,
   "id": "49e55e23",
   "metadata": {},
   "outputs": [],
   "source": [
    "inneitherDF = PossibleEdgesDF_1.loc[list(inneitherset),:]\n",
    "inneitherDF['Pred'] = 0\n",
    "inneitherDF['True'] = 0"
   ]
  },
  {
   "cell_type": "code",
   "execution_count": 95,
   "id": "b81dc92f",
   "metadata": {},
   "outputs": [],
   "source": [
    "outDF = pd.concat([inbothDF,onlyintrueDF,onlyinpredDF,inneitherDF],axis=0)"
   ]
  },
  {
   "cell_type": "code",
   "execution_count": 96,
   "id": "26e67bba",
   "metadata": {},
   "outputs": [],
   "source": [
    "prec, recall, thresholds = precision_recall_curve(y_true=outDF['True'],probas_pred=outDF['Pred'], pos_label=1)"
   ]
  },
  {
   "cell_type": "code",
   "execution_count": 97,
   "id": "ab53e5ca",
   "metadata": {},
   "outputs": [
    {
     "data": {
      "text/plain": [
       "0.043745304596455876"
      ]
     },
     "execution_count": 97,
     "metadata": {},
     "output_type": "execute_result"
    }
   ],
   "source": [
    "auc(recall, prec)"
   ]
  },
  {
   "cell_type": "code",
   "execution_count": 437,
   "id": "f51186fc",
   "metadata": {},
   "outputs": [],
   "source": [
    "auprc=auc(recall, prec)"
   ]
  },
  {
   "cell_type": "code",
   "execution_count": 19,
   "id": "eff7f6b1",
   "metadata": {},
   "outputs": [],
   "source": [
    "#indircted\n",
    "#Generate outDF copied from possibleEdgesDF\n",
    "outDF = pd.DataFrame(columns=['Edge','Pred','True'])\n",
    "outDF['Edge'] = possibleEdgesDF['Gene1'].map(str) +\"|\"+ possibleEdgesDF['Gene2'].map(str)"
   ]
  },
  {
   "cell_type": "code",
   "execution_count": 20,
   "id": "919faffb",
   "metadata": {},
   "outputs": [],
   "source": [
    "def gen_dict():\n",
    "    gene2_dict={}\n",
    "    for gene2,df in trueEdgesDF.groupby('Gene2'):\n",
    "        gene2_dict[gene2]=set(df['Gene1'])\n",
    "    return gene2_dict\n",
    "gene2_dict=gen_dict()"
   ]
  },
  {
   "cell_type": "code",
   "execution_count": 21,
   "id": "c2ec9d68",
   "metadata": {},
   "outputs": [],
   "source": [
    "#Generate a function of searching for trueEdgesDF\n",
    "def main_fun(row):\n",
    "    global gene2_dict\n",
    "    t1,t2=row['Gene1'],row['Gene2']\n",
    "    # First search for (gene1==t1 & gene2==t2)\n",
    "    if gene2_dict.get(t2):\n",
    "        temp=gene2_dict[t2]\n",
    "        if t1 in temp:\n",
    "            return 1\n",
    "          # Then search for (gene1==t2 & gene2==t1)\n",
    "    if gene2_dict.get(t1):\n",
    "        temp=gene2_dict[t1]\n",
    "        if t2 in temp:\n",
    "             return 1\n",
    "    return 0"
   ]
  },
  {
   "cell_type": "code",
   "execution_count": 22,
   "id": "19deebe7",
   "metadata": {},
   "outputs": [],
   "source": [
    "import modin.pandas \n",
    "import swifter\n",
    "swifter.register_modin()"
   ]
  },
  {
   "cell_type": "code",
   "execution_count": 23,
   "id": "d71b503d",
   "metadata": {},
   "outputs": [
    {
     "data": {
      "application/vnd.jupyter.widget-view+json": {
       "model_id": "4af116e291df42cc8a15a3939c753b01",
       "version_major": 2,
       "version_minor": 0
      },
      "text/plain": [
       "Pandas Apply:   0%|          | 0/109224 [00:00<?, ?it/s]"
      ]
     },
     "metadata": {},
     "output_type": "display_data"
    }
   ],
   "source": [
    "#Using apply function to speed up assigning values\n",
    "Value=possibleEdgesDF.swifter.apply(main_fun,axis=1)"
   ]
  },
  {
   "cell_type": "code",
   "execution_count": 24,
   "id": "7ea40317",
   "metadata": {},
   "outputs": [],
   "source": [
    "#Assigning values for TrueEdges\n",
    "outDF['True'] = Value"
   ]
  },
  {
   "cell_type": "code",
   "execution_count": 25,
   "id": "cc5027e3",
   "metadata": {},
   "outputs": [],
   "source": [
    "def gen_dict_2():\n",
    "    gene2_dict_2={}\n",
    "    for gene2,df in predEdgesDF.groupby('Gene2'):\n",
    "        gene2_dict_2[gene2]=dict(zip(list(df['Gene1']),list(df['Edgeweight'])))\n",
    "    return gene2_dict_2\n",
    "gene2_dict_2 = gen_dict_2()"
   ]
  },
  {
   "cell_type": "code",
   "execution_count": 26,
   "id": "2825ec7a",
   "metadata": {},
   "outputs": [],
   "source": [
    "def main_fun_2(row):\n",
    "    global gene2_dict_2\n",
    "    #res to record EdgeWeights in predEdgesDF\n",
    "    res=[]\n",
    "    t1 ,t2=row['Gene1'],row['Gene2']\n",
    "    # First search for (gene1==t1 & gene2==t2)\n",
    "    if gene2_dict_2.get(t2):\n",
    "        temp=gene2_dict_2[t2]\n",
    "        if t1 in temp:\n",
    "            res.append(temp[t1])\n",
    "            \n",
    "    # Then search for (gene1==t2 & gene2==t1)\n",
    "    if gene2_dict_2.get(t1):\n",
    "        temp=gene2_dict_2[t1]\n",
    "        if t2 in temp:\n",
    "            res.append(temp[t2])\n",
    "    if res:\n",
    "        return max(res)\n",
    "    else:\n",
    "        return 0"
   ]
  },
  {
   "cell_type": "code",
   "execution_count": 27,
   "id": "65f2062e",
   "metadata": {},
   "outputs": [
    {
     "data": {
      "application/vnd.jupyter.widget-view+json": {
       "model_id": "d313e68e77814ee2a477c08f44e75551",
       "version_major": 2,
       "version_minor": 0
      },
      "text/plain": [
       "Pandas Apply:   0%|          | 0/109224 [00:00<?, ?it/s]"
      ]
     },
     "metadata": {},
     "output_type": "display_data"
    }
   ],
   "source": [
    "swifter.register_modin()\n",
    "Weight = possibleEdgesDF.swifter.apply(main_fun_2,axis=1)"
   ]
  },
  {
   "cell_type": "code",
   "execution_count": 28,
   "id": "9ef79692",
   "metadata": {},
   "outputs": [],
   "source": [
    "outDF['Pred'] = Weight"
   ]
  },
  {
   "cell_type": "code",
   "execution_count": 29,
   "id": "d3199f2e",
   "metadata": {},
   "outputs": [],
   "source": [
    "outDF.set_index('Edge',inplace = True)"
   ]
  },
  {
   "cell_type": "code",
   "execution_count": 30,
   "id": "0067f1d0",
   "metadata": {},
   "outputs": [],
   "source": [
    "prec, recall, thresholds = precision_recall_curve(y_true=outDF['True'],probas_pred=outDF['Pred'], pos_label=1)"
   ]
  },
  {
   "cell_type": "code",
   "execution_count": 31,
   "id": "d96848b8",
   "metadata": {},
   "outputs": [],
   "source": [
    "auprc = auc(recall, prec)"
   ]
  },
  {
   "cell_type": "code",
   "execution_count": 116,
   "id": "04817c8e",
   "metadata": {},
   "outputs": [
    {
     "data": {
      "text/plain": [
       "<Figure size 432x288 with 0 Axes>"
      ]
     },
     "metadata": {},
     "output_type": "display_data"
    }
   ],
   "source": [
    "plt.xlim(0,1)    \n",
    "plt.ylim(0,1)\n",
    "plt.xlabel('Recall')\n",
    "plt.ylabel('Precision')\n",
    "plt.plot(prec, recall, \"blue\")  \n",
    "plt.savefig(save_path+save_name+'.pdf')\n",
    "plt.savefig(save_path+save_name+'.png')\n",
    "plt.clf()"
   ]
  },
  {
   "cell_type": "code",
   "execution_count": 32,
   "id": "b748f7b7",
   "metadata": {},
   "outputs": [
    {
     "name": "stdout",
     "output_type": "stream",
     "text": [
      "/AUPRC_TF_Keran_indirected:0.04654243225256931\n"
     ]
    }
   ],
   "source": [
    "print(save_name+':'+str(auprc))"
   ]
  },
  {
   "cell_type": "code",
   "execution_count": null,
   "id": "2bc99f13",
   "metadata": {},
   "outputs": [],
   "source": []
  }
 ],
 "metadata": {
  "kernelspec": {
   "display_name": "Python 3 (ipykernel)",
   "language": "python",
   "name": "python3"
  },
  "language_info": {
   "codemirror_mode": {
    "name": "ipython",
    "version": 3
   },
   "file_extension": ".py",
   "mimetype": "text/x-python",
   "name": "python",
   "nbconvert_exporter": "python",
   "pygments_lexer": "ipython3",
   "version": "3.10.5"
  }
 },
 "nbformat": 4,
 "nbformat_minor": 5
}
