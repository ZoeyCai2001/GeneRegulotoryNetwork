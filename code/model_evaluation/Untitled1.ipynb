{
 "cells": [
  {
   "cell_type": "code",
   "execution_count": 1,
   "id": "b3c5a542",
   "metadata": {},
   "outputs": [],
   "source": [
    "import os\n",
    "import numpy as np\n",
    "import pandas as pd\n",
    "from itertools import product,permutations"
   ]
  },
  {
   "cell_type": "code",
   "execution_count": 8,
   "id": "e6f71fe7",
   "metadata": {},
   "outputs": [],
   "source": [
    "true_path = '/gpfs/gibbs/pi/zhao/yw599/GRN/BEELINE-Networks/Networks/human/Non-specific-ChIP-seq-network.csv'\n",
    "pred_path = '/gpfs/gibbs/pi/zhao/zc354/GRN/output/TF_filename_unnormalization.csv'\n",
    "directed = False\n",
    "TFEdges = False\n",
    "save_path = '/gpfs/gibbs/pi/zhao/zc354/GRN/output'\n",
    "save_name = 'EPV'"
   ]
  },
  {
   "cell_type": "code",
   "execution_count": 9,
   "id": "4a2d8f85",
   "metadata": {},
   "outputs": [],
   "source": [
    "#Read true netword and predicted network\n",
    "trueEdgesDF = pd.read_csv(true_path,sep = ',', header = 0, index_col = None)\n",
    "predEdgesDF = pd.read_csv(pred_path, sep = ',', header =  0, index_col = None)"
   ]
  },
  {
   "cell_type": "code",
   "execution_count": 10,
   "id": "ced5b39b",
   "metadata": {},
   "outputs": [
    {
     "data": {
      "text/plain": [
       "2165"
      ]
     },
     "execution_count": 10,
     "metadata": {},
     "output_type": "execute_result"
    }
   ],
   "source": [
    "len(set(trueEdgesDF['Gene1']))"
   ]
  },
  {
   "cell_type": "code",
   "execution_count": 11,
   "id": "afdf978a",
   "metadata": {},
   "outputs": [
    {
     "data": {
      "text/plain": [
       "23380"
      ]
     },
     "execution_count": 11,
     "metadata": {},
     "output_type": "execute_result"
    }
   ],
   "source": [
    "len(set(trueEdgesDF['Gene2']))"
   ]
  },
  {
   "cell_type": "code",
   "execution_count": 13,
   "id": "c3918a03",
   "metadata": {},
   "outputs": [
    {
     "data": {
      "text/plain": [
       "776"
      ]
     },
     "execution_count": 13,
     "metadata": {},
     "output_type": "execute_result"
    }
   ],
   "source": [
    "len(set(predEdgesDF['Gene1']))"
   ]
  },
  {
   "cell_type": "code",
   "execution_count": 14,
   "id": "30d1c210",
   "metadata": {},
   "outputs": [
    {
     "data": {
      "text/plain": [
       "556"
      ]
     },
     "execution_count": 14,
     "metadata": {},
     "output_type": "execute_result"
    }
   ],
   "source": [
    "len(set(predEdgesDF['Gene2']))"
   ]
  },
  {
   "cell_type": "code",
   "execution_count": 16,
   "id": "d927b940",
   "metadata": {},
   "outputs": [
    {
     "data": {
      "text/plain": [
       "1711"
      ]
     },
     "execution_count": 16,
     "metadata": {},
     "output_type": "execute_result"
    }
   ],
   "source": [
    "len(set(trueEdgesDF['Gene1'])-set(predEdgesDF['Gene1']))"
   ]
  },
  {
   "cell_type": "code",
   "execution_count": 17,
   "id": "4fbda4d9",
   "metadata": {},
   "outputs": [
    {
     "data": {
      "text/plain": [
       "1389"
      ]
     },
     "execution_count": 17,
     "metadata": {},
     "output_type": "execute_result"
    }
   ],
   "source": [
    "2165-776"
   ]
  },
  {
   "cell_type": "code",
   "execution_count": 19,
   "id": "25d39b5c",
   "metadata": {},
   "outputs": [
    {
     "data": {
      "text/plain": [
       "322"
      ]
     },
     "execution_count": 19,
     "metadata": {},
     "output_type": "execute_result"
    }
   ],
   "source": [
    "len(set(predEdgesDF['Gene1'])-set(trueEdgesDF['Gene1']))"
   ]
  },
  {
   "cell_type": "code",
   "execution_count": 20,
   "id": "acb213a0",
   "metadata": {},
   "outputs": [
    {
     "data": {
      "text/plain": [
       "{'ALX3',\n",
       " 'ARGFX',\n",
       " 'ARID5A',\n",
       " 'BBX',\n",
       " 'CENPBD1',\n",
       " 'CPEB1',\n",
       " 'CREBL2',\n",
       " 'CXXC5',\n",
       " 'DMRT1',\n",
       " 'DPF3',\n",
       " 'EBF4',\n",
       " 'ETV2',\n",
       " 'ETV3L',\n",
       " 'FBXL19',\n",
       " 'FOXB1',\n",
       " 'FOXK1',\n",
       " 'FOXN2',\n",
       " 'FOXO6',\n",
       " 'GLI4',\n",
       " 'GLIS1',\n",
       " 'HES2',\n",
       " 'HES4',\n",
       " 'HSF5',\n",
       " 'JRKL',\n",
       " 'KDM2B',\n",
       " 'LBX2',\n",
       " 'LCORL',\n",
       " 'LIN28B',\n",
       " 'LIN54',\n",
       " 'MBNL2',\n",
       " 'MESP1',\n",
       " 'MESP2',\n",
       " 'MGA',\n",
       " 'MSANTD3',\n",
       " 'MYNN',\n",
       " 'MYPOP',\n",
       " 'MYRF',\n",
       " 'MYT1L',\n",
       " 'NAIF1',\n",
       " 'NR6A1',\n",
       " 'OLIG1',\n",
       " 'OSR2',\n",
       " 'OVOL2',\n",
       " 'PBX4',\n",
       " 'POGK',\n",
       " 'POU6F1',\n",
       " 'POU6F2',\n",
       " 'PRDM5',\n",
       " 'PROX2',\n",
       " 'RFX7',\n",
       " 'RFX8',\n",
       " 'RHOXF1',\n",
       " 'SKOR1',\n",
       " 'SNAI3',\n",
       " 'SOX12',\n",
       " 'SOX15',\n",
       " 'ST18',\n",
       " 'TBX1',\n",
       " 'TBX6',\n",
       " 'TERF2',\n",
       " 'TET1',\n",
       " 'TET3',\n",
       " 'TFAP2E',\n",
       " 'THAP12',\n",
       " 'TIGD1',\n",
       " 'TIGD2',\n",
       " 'TIGD6',\n",
       " 'VENTX',\n",
       " 'XPA',\n",
       " 'YBX3',\n",
       " 'YY2',\n",
       " 'ZBED1',\n",
       " 'ZBTB1',\n",
       " 'ZBTB18',\n",
       " 'ZBTB20',\n",
       " 'ZBTB26',\n",
       " 'ZBTB37',\n",
       " 'ZBTB42',\n",
       " 'ZBTB44',\n",
       " 'ZBTB49',\n",
       " 'ZBTB7C',\n",
       " 'ZFHX2',\n",
       " 'ZFP1',\n",
       " 'ZFP14',\n",
       " 'ZFP28',\n",
       " 'ZFP3',\n",
       " 'ZFP41',\n",
       " 'ZFP69',\n",
       " 'ZFP69B',\n",
       " 'ZFP82',\n",
       " 'ZFP90',\n",
       " 'ZFX',\n",
       " 'ZFY',\n",
       " 'ZIK1',\n",
       " 'ZKSCAN1',\n",
       " 'ZKSCAN2',\n",
       " 'ZKSCAN3',\n",
       " 'ZKSCAN5',\n",
       " 'ZKSCAN7',\n",
       " 'ZNF100',\n",
       " 'ZNF114',\n",
       " 'ZNF12',\n",
       " 'ZNF121',\n",
       " 'ZNF124',\n",
       " 'ZNF132',\n",
       " 'ZNF133',\n",
       " 'ZNF134',\n",
       " 'ZNF135',\n",
       " 'ZNF140',\n",
       " 'ZNF141',\n",
       " 'ZNF154',\n",
       " 'ZNF157',\n",
       " 'ZNF16',\n",
       " 'ZNF17',\n",
       " 'ZNF177',\n",
       " 'ZNF18',\n",
       " 'ZNF180',\n",
       " 'ZNF181',\n",
       " 'ZNF182',\n",
       " 'ZNF184',\n",
       " 'ZNF189',\n",
       " 'ZNF19',\n",
       " 'ZNF2',\n",
       " 'ZNF200',\n",
       " 'ZNF211',\n",
       " 'ZNF212',\n",
       " 'ZNF213',\n",
       " 'ZNF22',\n",
       " 'ZNF222',\n",
       " 'ZNF223',\n",
       " 'ZNF225',\n",
       " 'ZNF23',\n",
       " 'ZNF235',\n",
       " 'ZNF248',\n",
       " 'ZNF25',\n",
       " 'ZNF254',\n",
       " 'ZNF257',\n",
       " 'ZNF260',\n",
       " 'ZNF264',\n",
       " 'ZNF266',\n",
       " 'ZNF273',\n",
       " 'ZNF28',\n",
       " 'ZNF281',\n",
       " 'ZNF282',\n",
       " 'ZNF283',\n",
       " 'ZNF284',\n",
       " 'ZNF285',\n",
       " 'ZNF296',\n",
       " 'ZNF3',\n",
       " 'ZNF30',\n",
       " 'ZNF302',\n",
       " 'ZNF304',\n",
       " 'ZNF311',\n",
       " 'ZNF317',\n",
       " 'ZNF32',\n",
       " 'ZNF320',\n",
       " 'ZNF322',\n",
       " 'ZNF324',\n",
       " 'ZNF324B',\n",
       " 'ZNF329',\n",
       " 'ZNF331',\n",
       " 'ZNF333',\n",
       " 'ZNF33B',\n",
       " 'ZNF34',\n",
       " 'ZNF343',\n",
       " 'ZNF345',\n",
       " 'ZNF35',\n",
       " 'ZNF354B',\n",
       " 'ZNF37A',\n",
       " 'ZNF385D',\n",
       " 'ZNF394',\n",
       " 'ZNF415',\n",
       " 'ZNF416',\n",
       " 'ZNF418',\n",
       " 'ZNF419',\n",
       " 'ZNF429',\n",
       " 'ZNF430',\n",
       " 'ZNF431',\n",
       " 'ZNF432',\n",
       " 'ZNF433',\n",
       " 'ZNF436',\n",
       " 'ZNF441',\n",
       " 'ZNF442',\n",
       " 'ZNF443',\n",
       " 'ZNF445',\n",
       " 'ZNF449',\n",
       " 'ZNF45',\n",
       " 'ZNF460',\n",
       " 'ZNF468',\n",
       " 'ZNF480',\n",
       " 'ZNF483',\n",
       " 'ZNF484',\n",
       " 'ZNF485',\n",
       " 'ZNF486',\n",
       " 'ZNF487',\n",
       " 'ZNF490',\n",
       " 'ZNF492',\n",
       " 'ZNF501',\n",
       " 'ZNF502',\n",
       " 'ZNF506',\n",
       " 'ZNF513',\n",
       " 'ZNF519',\n",
       " 'ZNF524',\n",
       " 'ZNF525',\n",
       " 'ZNF527',\n",
       " 'ZNF528',\n",
       " 'ZNF529',\n",
       " 'ZNF530',\n",
       " 'ZNF540',\n",
       " 'ZNF543',\n",
       " 'ZNF547',\n",
       " 'ZNF548',\n",
       " 'ZNF549',\n",
       " 'ZNF550',\n",
       " 'ZNF552',\n",
       " 'ZNF554',\n",
       " 'ZNF555',\n",
       " 'ZNF562',\n",
       " 'ZNF563',\n",
       " 'ZNF564',\n",
       " 'ZNF565',\n",
       " 'ZNF566',\n",
       " 'ZNF570',\n",
       " 'ZNF571',\n",
       " 'ZNF573',\n",
       " 'ZNF574',\n",
       " 'ZNF582',\n",
       " 'ZNF584',\n",
       " 'ZNF585A',\n",
       " 'ZNF586',\n",
       " 'ZNF594',\n",
       " 'ZNF595',\n",
       " 'ZNF596',\n",
       " 'ZNF597',\n",
       " 'ZNF605',\n",
       " 'ZNF610',\n",
       " 'ZNF611',\n",
       " 'ZNF613',\n",
       " 'ZNF614',\n",
       " 'ZNF615',\n",
       " 'ZNF616',\n",
       " 'ZNF619',\n",
       " 'ZNF620',\n",
       " 'ZNF621',\n",
       " 'ZNF626',\n",
       " 'ZNF627',\n",
       " 'ZNF641',\n",
       " 'ZNF652',\n",
       " 'ZNF660',\n",
       " 'ZNF662',\n",
       " 'ZNF667',\n",
       " 'ZNF669',\n",
       " 'ZNF671',\n",
       " 'ZNF674',\n",
       " 'ZNF677',\n",
       " 'ZNF680',\n",
       " 'ZNF681',\n",
       " 'ZNF682',\n",
       " 'ZNF684',\n",
       " 'ZNF69',\n",
       " 'ZNF691',\n",
       " 'ZNF692',\n",
       " 'ZNF695',\n",
       " 'ZNF701',\n",
       " 'ZNF704',\n",
       " 'ZNF708',\n",
       " 'ZNF71',\n",
       " 'ZNF711',\n",
       " 'ZNF713',\n",
       " 'ZNF714',\n",
       " 'ZNF730',\n",
       " 'ZNF736',\n",
       " 'ZNF737',\n",
       " 'ZNF749',\n",
       " 'ZNF75A',\n",
       " 'ZNF75D',\n",
       " 'ZNF765',\n",
       " 'ZNF768',\n",
       " 'ZNF77',\n",
       " 'ZNF770',\n",
       " 'ZNF771',\n",
       " 'ZNF774',\n",
       " 'ZNF776',\n",
       " 'ZNF777',\n",
       " 'ZNF778',\n",
       " 'ZNF780A',\n",
       " 'ZNF782',\n",
       " 'ZNF783',\n",
       " 'ZNF784',\n",
       " 'ZNF785',\n",
       " 'ZNF786',\n",
       " 'ZNF787',\n",
       " 'ZNF789',\n",
       " 'ZNF79',\n",
       " 'ZNF790',\n",
       " 'ZNF791',\n",
       " 'ZNF792',\n",
       " 'ZNF793',\n",
       " 'ZNF799',\n",
       " 'ZNF805',\n",
       " 'ZNF808',\n",
       " 'ZNF81',\n",
       " 'ZNF816',\n",
       " 'ZNF821',\n",
       " 'ZNF823',\n",
       " 'ZNF84',\n",
       " 'ZNF85',\n",
       " 'ZNF860',\n",
       " 'ZNF879',\n",
       " 'ZNF880',\n",
       " 'ZNF891',\n",
       " 'ZNF90',\n",
       " 'ZNF93',\n",
       " 'ZNF98',\n",
       " 'ZSCAN1',\n",
       " 'ZSCAN22',\n",
       " 'ZSCAN23',\n",
       " 'ZSCAN26',\n",
       " 'ZSCAN29',\n",
       " 'ZSCAN30',\n",
       " 'ZSCAN31',\n",
       " 'ZSCAN9'}"
      ]
     },
     "execution_count": 20,
     "metadata": {},
     "output_type": "execute_result"
    }
   ],
   "source": [
    "set(predEdgesDF['Gene1'])-set(trueEdgesDF['Gene1'])"
   ]
  },
  {
   "cell_type": "code",
   "execution_count": 21,
   "id": "f97cb2ae",
   "metadata": {},
   "outputs": [
    {
     "data": {
      "text/plain": [
       "22853"
      ]
     },
     "execution_count": 21,
     "metadata": {},
     "output_type": "execute_result"
    }
   ],
   "source": [
    "len(set(trueEdgesDF['Gene2'])-set(predEdgesDF['Gene2']))"
   ]
  },
  {
   "cell_type": "code",
   "execution_count": 22,
   "id": "798e1b0e",
   "metadata": {},
   "outputs": [
    {
     "data": {
      "text/plain": [
       "29"
      ]
     },
     "execution_count": 22,
     "metadata": {},
     "output_type": "execute_result"
    }
   ],
   "source": [
    "len(set(predEdgesDF['Gene2'])-set(trueEdgesDF['Gene2']))"
   ]
  },
  {
   "cell_type": "code",
   "execution_count": 25,
   "id": "2f10e4ff",
   "metadata": {},
   "outputs": [
    {
     "data": {
      "text/plain": [
       "527"
      ]
     },
     "execution_count": 25,
     "metadata": {},
     "output_type": "execute_result"
    }
   ],
   "source": [
    "len(set(trueEdgesDF['Gene2'])&set(predEdgesDF['Gene2']))"
   ]
  },
  {
   "cell_type": "code",
   "execution_count": 4,
   "id": "7dd9f584",
   "metadata": {},
   "outputs": [],
   "source": [
    "#Unification changes lowercase letters to uppercase letters\n",
    "trueEdgesDF['Gene1'] = trueEdgesDF['Gene1'].str.upper()\n",
    "trueEdgesDF['Gene2'] = trueEdgesDF['Gene2'].str.upper()\n",
    "predEdgesDF['Gene1'] = predEdgesDF['Gene1'].str.upper()\n",
    "predEdgesDF['Gene2'] = predEdgesDF['Gene2'].str.upper()"
   ]
  },
  {
   "cell_type": "code",
   "execution_count": 5,
   "id": "57c6652f",
   "metadata": {},
   "outputs": [],
   "source": [
    "#Drop index in predEdgesDF that Edgeweight=0\n",
    "predEdgesDF.drop(predEdgesDF[predEdgesDF['Edgeweight'] == 0].index,inplace=True)"
   ]
  },
  {
   "cell_type": "code",
   "execution_count": 6,
   "id": "94bdd7e0",
   "metadata": {},
   "outputs": [],
   "source": [
    "#Drop selfEdges\n",
    "trueEdgesDF = trueEdgesDF.loc[(trueEdgesDF['Gene1'] != trueEdgesDF['Gene2'])]\n",
    "predEdgesDF = predEdgesDF.loc[(predEdgesDF['Gene1'] != predEdgesDF['Gene2'])]"
   ]
  },
  {
   "cell_type": "code",
   "execution_count": 7,
   "id": "451a12e9",
   "metadata": {},
   "outputs": [],
   "source": [
    "#Drop duplicates in trueEdgesDF and predEdgesDF\n",
    "trueEdgesDF.drop_duplicates(keep = 'first', inplace=True)\n",
    "predEdgesDF.drop_duplicates(keep = 'first', subset=['Gene1','Gene2'], inplace=True)"
   ]
  },
  {
   "cell_type": "code",
   "execution_count": null,
   "id": "1eae1b50",
   "metadata": {},
   "outputs": [],
   "source": []
  },
  {
   "cell_type": "code",
   "execution_count": 8,
   "id": "d13efab8",
   "metadata": {},
   "outputs": [],
   "source": [
    "uniqueNodes = np.unique(trueEdgesDF.loc[:,['Gene1','Gene2']])"
   ]
  },
  {
   "cell_type": "code",
   "execution_count": 9,
   "id": "af944bcd",
   "metadata": {},
   "outputs": [
    {
     "data": {
      "text/plain": [
       "23558"
      ]
     },
     "execution_count": 9,
     "metadata": {},
     "output_type": "execute_result"
    }
   ],
   "source": [
    "len(uniqueNodes)"
   ]
  },
  {
   "cell_type": "code",
   "execution_count": 10,
   "id": "d1881b51",
   "metadata": {},
   "outputs": [],
   "source": [
    "possibleEdges_TF = set(product(set(trueEdgesDF.Gene1),set(uniqueNodes)))"
   ]
  },
  {
   "cell_type": "code",
   "execution_count": 11,
   "id": "407b6f03",
   "metadata": {},
   "outputs": [
    {
     "data": {
      "text/plain": [
       "50814606"
      ]
     },
     "execution_count": 11,
     "metadata": {},
     "output_type": "execute_result"
    }
   ],
   "source": [
    "len(possibleEdges_TF)"
   ]
  },
  {
   "cell_type": "code",
   "execution_count": 12,
   "id": "27cc3cd5",
   "metadata": {
    "scrolled": true
   },
   "outputs": [],
   "source": [
    "possibleEdges_noSelf = set(product(set(uniqueNodes),set(uniqueNodes)))     "
   ]
  },
  {
   "cell_type": "code",
   "execution_count": null,
   "id": "d95c35a6",
   "metadata": {},
   "outputs": [],
   "source": [
    "possibleEdges_noSelf"
   ]
  },
  {
   "cell_type": "code",
   "execution_count": null,
   "id": "29070ebc",
   "metadata": {},
   "outputs": [],
   "source": [
    "possibleEdges = possibleEdges_TF.intersection(possibleEdges_noSelf)"
   ]
  },
  {
   "cell_type": "code",
   "execution_count": null,
   "id": "f6581b89",
   "metadata": {},
   "outputs": [],
   "source": [
    "TrueEdgeDict = {'|'.join(p):0 for p in possibleEdges}\n",
    "\n",
    "trueEdges = trueEdgesDF['Gene1'] + \"|\" + trueEdgesDF['Gene2']\n",
    "trueEdges = trueEdges[trueEdges.isin(TrueEdgeDict)]\n",
    "    \n",
    "predDF['Edges'] = predDF['Gene1'] + \"|\" + predDF['Gene2']\n",
    "# limit the predicted edges to the genes that are in the ground truth\n",
    "predDF = predDF[predDF['Edges'].isin(TrueEdgeDict)]"
   ]
  }
 ],
 "metadata": {
  "kernelspec": {
   "display_name": "Python 3 (ipykernel)",
   "language": "python",
   "name": "python3"
  },
  "language_info": {
   "codemirror_mode": {
    "name": "ipython",
    "version": 3
   },
   "file_extension": ".py",
   "mimetype": "text/x-python",
   "name": "python",
   "nbconvert_exporter": "python",
   "pygments_lexer": "ipython3",
   "version": "3.10.5"
  }
 },
 "nbformat": 4,
 "nbformat_minor": 5
}
