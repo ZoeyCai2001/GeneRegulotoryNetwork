{
 "cells": [
  {
   "cell_type": "code",
   "execution_count": null,
   "id": "992d5650",
   "metadata": {},
   "outputs": [],
   "source": [
    "import numpy as np\n",
    "import pandas as pd\n",
    "import seaborn as sns\n",
    "sns.set(rc={\"lines.linewidth\": 2}, palette  = \"deep\", style = \"ticks\")\n",
    "import matplotlib.pyplot as plt"
   ]
  },
  {
   "cell_type": "code",
   "execution_count": null,
   "id": "3e63594e",
   "metadata": {},
   "outputs": [],
   "source": [
    "#true_path='/gpfs/gibbs/pi/zhao/zc354/GRN/data/Non-specific-ChIP-seq1-GRN.csv'\n",
    "pred_path_1='/gpfs/gibbs/pi/zhao/zc354/GRN/data/multi_original_plus9.csv'\n",
    "pred_path_2='/gpfs/gibbs/pi/zhao/zc354/GRN/data/TF_original排序_9.csv'\n",
    "#pred_path_3='/gpfs/gibbs/pi/zhao/zc354/GRN/output/TF_filename_unnorm.csv'\n",
    "#save_path='/gpfs/gibbs/pi/zhao/zc354/GRN/output'\n",
    "#save_name='/TF-TF_chromation_indirected'"
   ]
  },
  {
   "cell_type": "code",
   "execution_count": null,
   "id": "2aeb00e0",
   "metadata": {},
   "outputs": [],
   "source": [
    "predEdgesDF_1 = pd.read_csv(pred_path_1,sep = ',', header = 0, index_col = None)\n",
    "predEdgesDF_2 = pd.read_csv(pred_path_2,sep = ',', header = 0, index_col = None)"
   ]
  },
  {
   "cell_type": "code",
   "execution_count": null,
   "id": "5920da7d",
   "metadata": {},
   "outputs": [],
   "source": []
  }
 ],
 "metadata": {
  "kernelspec": {
   "display_name": "Python 3 (ipykernel)",
   "language": "python",
   "name": "python3"
  },
  "language_info": {
   "codemirror_mode": {
    "name": "ipython",
    "version": 3
   },
   "file_extension": ".py",
   "mimetype": "text/x-python",
   "name": "python",
   "nbconvert_exporter": "python",
   "pygments_lexer": "ipython3",
   "version": "3.10.5"
  }
 },
 "nbformat": 4,
 "nbformat_minor": 5
}
